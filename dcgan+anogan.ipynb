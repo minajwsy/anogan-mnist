{
 "cells": [
  {
   "cell_type": "markdown",
   "metadata": {},
   "source": [
    "# Unsupervised Computer vision based Anomaly Detection\n",
    "#### - GAN(Generative Adversal Network)을 이용한 이상감지\n",
    "\n",
    "본 노트북은 GAN(Generative Adversal Network)을 이용하여 이미지 데이터에 이상감지를 적용하는 방법을 보여줍니다. 구현원리와 아이디어는 다음 링크의 논문(https://arxiv.org/abs/1703.05921)으로부터 직접 참조할 수 있습니다. 본 예제는 해당 아이디어를 Tensorflow Keras와 SageMaker를 이용하여 MNIST 데이터셋에 이상감지를 적용해 볼 것입니다. GAN네트워크는 다음 링크(https://github.com/eriklindernoren/Keras-GAN/blob/master/dcgan/dcgan.py)의 DC GAN을 참고하였습니다. AnoGAN 구현코드는 다음링크(https://github.com/yjucho1/anoGAN)를 참고하였습니다.\n",
    "\n",
    "구현단계를 간단히 요약하면 다음과 같습니다.\n",
    "\n",
    "#### Step 1) 정상 이미지를 이용하여 Generative 모델을 생성한다. \n",
    "정상 이미지를 이용하여 이와 유사한 이미지를 만들 수 있는 Generative 모델을 정의하고 학습합니다. 본 예제에서는 28x28 grayscale의 이미지를 생성하는 GAN Network을 정의하고 MNIST 이미지와 유사한 이미지를 생성하도록 Network를 학습시킵니다.\n",
    "\n",
    "![](images/gan.png)\n",
    "\n",
    "#### Step 2) Generative 모델에서 사용할 latent vector를 추론하는 모델을 생성한다. \n",
    "Step 1의 GAN을 이용하여 이상감지 모델을 생성합니다. 학습된 GAN이 정상 데이터와 유사한 이미지는 잘 생성하지만 학습단계에서 보지 못한 이상 데이터와 유사한 데이터는 잘 생성하지 못하는 특징을 활용하여 Anomaly Score를 정량적으로 구합니다.\n",
    "\n",
    "![](images/anogan1.png)\n",
    "\n",
    "본 예제를 실행하면서 단계별로 그 과정과 설명을 확인할 수 있습니다."
   ]
  },
  {
   "cell_type": "markdown",
   "metadata": {},
   "source": [
    "---\n",
    "# STEP 1. DCGAN Training\n",
    "---\n",
    "\n",
    "Anomaly Detection에서 사용할 이미지 생성모델이 필요합니다. 본 예제에서는 DCGAN을 이용하겠습니다.\n",
    "\n",
    "## 1. import libraries and data\n",
    "\n",
    "필요한 라이브러리들을 로드합니다."
   ]
  },
  {
   "cell_type": "code",
   "execution_count": 1,
   "metadata": {},
   "outputs": [
    {
     "name": "stderr",
     "output_type": "stream",
     "text": [
      "Using TensorFlow backend.\n"
     ]
    },
    {
     "name": "stdout",
     "output_type": "stream",
     "text": [
      "WARNING:tensorflow:From /home/ec2-user/anaconda3/envs/tensorflow_p36/lib/python3.6/site-packages/tensorflow_core/__init__.py:1467: The name tf.estimator.inputs is deprecated. Please use tf.compat.v1.estimator.inputs instead.\n",
      "\n"
     ]
    }
   ],
   "source": [
    "from __future__ import print_function, division\n",
    "\n",
    "from keras.datasets import mnist\n",
    "from keras.layers import Input, Dense, Reshape, Flatten, Dropout\n",
    "from keras.layers import BatchNormalization, Activation, ZeroPadding2D\n",
    "from keras.layers.advanced_activations import LeakyReLU\n",
    "from keras.layers.convolutional import UpSampling2D, Conv2D\n",
    "from keras.models import Sequential, Model\n",
    "from keras.optimizers import Adam\n",
    "import tensorflow as tf\n",
    "import sys\n",
    "import numpy as np\n",
    "import matplotlib.pyplot as plt"
   ]
  },
  {
   "cell_type": "code",
   "execution_count": 2,
   "metadata": {},
   "outputs": [
    {
     "name": "stdout",
     "output_type": "stream",
     "text": [
      "Downloading data from https://s3.amazonaws.com/img-datasets/mnist.npz\n",
      "11493376/11490434 [==============================] - 0s 0us/step\n"
     ]
    }
   ],
   "source": [
    "(X_train, y_train), (_, _) = mnist.load_data()"
   ]
  },
  {
   "cell_type": "markdown",
   "metadata": {},
   "source": [
    "<br>\n",
    "잘 알려진 MNIST 데이터셋을 활용힐 것입니다. MNIST는 손글씨 숫자로 이루어진 28x28 이미지데이터입니다."
   ]
  },
  {
   "cell_type": "code",
   "execution_count": 3,
   "metadata": {},
   "outputs": [
    {
     "data": {
      "image/png": "[encoded data removed]",
      "text/plain": [
       "<Figure size 1152x432 with 10 Axes>"
      ]
     },
     "metadata": {},
     "output_type": "display_data"
    }
   ],
   "source": [
    "# plt.imshow(X_train[100].reshape(28,28))\n",
    "plt.figure(figsize=(16,6))\n",
    "for i in range(10):\n",
    "    plt.subplot(2,5,i+1)\n",
    "    plt.imshow(X_train[i])\n",
    "plt.show()"
   ]
  },
  {
   "cell_type": "markdown",
   "metadata": {},
   "source": [
    "---\n",
    "## 2. DCGAN 네트워크 정의\n",
    "\n",
    "\n",
    "#### 2-1. Generator 생성함수\n",
    "`input_dim` 파라미터를 통해 임의의 사이즈(본 예제에서는 100 사용)와 채널(본 예제는 grayscale이므로 1사용)를 가지는 latent_dim 벡터를 입력받아  UpSampling과 Convolutional Network을 이용하여 28x28 image를 Generate하는 신경망입니다."
   ]
  },
  {
   "cell_type": "code",
   "execution_count": 4,
   "metadata": {},
   "outputs": [
    {
     "name": "stdout",
     "output_type": "stream",
     "text": [
      "WARNING:tensorflow:From /home/ec2-user/anaconda3/envs/tensorflow_p36/lib/python3.6/site-packages/keras/backend/tensorflow_backend.py:74: The name tf.get_default_graph is deprecated. Please use tf.compat.v1.get_default_graph instead.\n",
      "\n",
      "WARNING:tensorflow:From /home/ec2-user/anaconda3/envs/tensorflow_p36/lib/python3.6/site-packages/keras/backend/tensorflow_backend.py:517: The name tf.placeholder is deprecated. Please use tf.compat.v1.placeholder instead.\n",
      "\n",
      "WARNING:tensorflow:From /home/ec2-user/anaconda3/envs/tensorflow_p36/lib/python3.6/site-packages/keras/backend/tensorflow_backend.py:4138: The name tf.random_uniform is deprecated. Please use tf.random.uniform instead.\n",
      "\n",
      "WARNING:tensorflow:From /home/ec2-user/anaconda3/envs/tensorflow_p36/lib/python3.6/site-packages/keras/backend/tensorflow_backend.py:2018: The name tf.image.resize_nearest_neighbor is deprecated. Please use tf.compat.v1.image.resize_nearest_neighbor instead.\n",
      "\n",
      "WARNING:tensorflow:From /home/ec2-user/anaconda3/envs/tensorflow_p36/lib/python3.6/site-packages/keras/backend/tensorflow_backend.py:174: The name tf.get_default_session is deprecated. Please use tf.compat.v1.get_default_session instead.\n",
      "\n",
      "WARNING:tensorflow:From /home/ec2-user/anaconda3/envs/tensorflow_p36/lib/python3.6/site-packages/keras/backend/tensorflow_backend.py:184: The name tf.ConfigProto is deprecated. Please use tf.compat.v1.ConfigProto instead.\n",
      "\n",
      "WARNING:tensorflow:From /home/ec2-user/anaconda3/envs/tensorflow_p36/lib/python3.6/site-packages/keras/backend/tensorflow_backend.py:186: The name tf.Session is deprecated. Please use tf.compat.v1.Session instead.\n",
      "\n",
      "WARNING:tensorflow:From /home/ec2-user/anaconda3/envs/tensorflow_p36/lib/python3.6/site-packages/keras/backend/tensorflow_backend.py:190: The name tf.global_variables is deprecated. Please use tf.compat.v1.global_variables instead.\n",
      "\n",
      "WARNING:tensorflow:From /home/ec2-user/anaconda3/envs/tensorflow_p36/lib/python3.6/site-packages/keras/backend/tensorflow_backend.py:199: The name tf.is_variable_initialized is deprecated. Please use tf.compat.v1.is_variable_initialized instead.\n",
      "\n",
      "WARNING:tensorflow:From /home/ec2-user/anaconda3/envs/tensorflow_p36/lib/python3.6/site-packages/keras/backend/tensorflow_backend.py:206: The name tf.variables_initializer is deprecated. Please use tf.compat.v1.variables_initializer instead.\n",
      "\n",
      "WARNING:tensorflow:From /home/ec2-user/anaconda3/envs/tensorflow_p36/lib/python3.6/site-packages/keras/backend/tensorflow_backend.py:1834: The name tf.nn.fused_batch_norm is deprecated. Please use tf.compat.v1.nn.fused_batch_norm instead.\n",
      "\n",
      "WARNING:tensorflow:From /home/ec2-user/anaconda3/envs/tensorflow_p36/lib/python3.6/site-packages/keras/backend/tensorflow_backend.py:133: The name tf.placeholder_with_default is deprecated. Please use tf.compat.v1.placeholder_with_default instead.\n",
      "\n",
      "_________________________________________________________________\n",
      "Layer (type)                 Output Shape              Param #   \n",
      "=================================================================\n",
      "dense_1 (Dense)              (None, 6272)              633472    \n",
      "_________________________________________________________________\n",
      "reshape_1 (Reshape)          (None, 7, 7, 128)         0         \n",
      "_________________________________________________________________\n",
      "up_sampling2d_1 (UpSampling2 (None, 14, 14, 128)       0         \n",
      "_________________________________________________________________\n",
      "conv2d_1 (Conv2D)            (None, 14, 14, 128)       147584    \n",
      "_________________________________________________________________\n",
      "batch_normalization_1 (Batch (None, 14, 14, 128)       512       \n",
      "_________________________________________________________________\n",
      "activation_1 (Activation)    (None, 14, 14, 128)       0         \n",
      "_________________________________________________________________\n",
      "up_sampling2d_2 (UpSampling2 (None, 28, 28, 128)       0         \n",
      "_________________________________________________________________\n",
      "conv2d_2 (Conv2D)            (None, 28, 28, 64)        73792     \n",
      "_________________________________________________________________\n",
      "batch_normalization_2 (Batch (None, 28, 28, 64)        256       \n",
      "_________________________________________________________________\n",
      "activation_2 (Activation)    (None, 28, 28, 64)        0         \n",
      "_________________________________________________________________\n",
      "conv2d_3 (Conv2D)            (None, 28, 28, 1)         577       \n",
      "_________________________________________________________________\n",
      "activation_3 (Activation)    (None, 28, 28, 1)         0         \n",
      "=================================================================\n",
      "Total params: 856,193\n",
      "Trainable params: 855,809\n",
      "Non-trainable params: 384\n",
      "_________________________________________________________________\n"
     ]
    }
   ],
   "source": [
    "def build_generator(latent_dim, channels):\n",
    "\n",
    "    model = Sequential()\n",
    "\n",
    "    model.add(Dense(128 * 7 * 7, activation=\"relu\", input_dim=latent_dim))\n",
    "    model.add(Reshape((7, 7, 128)))\n",
    "    model.add(UpSampling2D())\n",
    "    model.add(Conv2D(128, kernel_size=3, padding=\"same\"))\n",
    "    model.add(BatchNormalization(momentum=0.8))\n",
    "    model.add(Activation(\"relu\"))\n",
    "    model.add(UpSampling2D())\n",
    "    model.add(Conv2D(64, kernel_size=3, padding=\"same\"))\n",
    "    model.add(BatchNormalization(momentum=0.8))\n",
    "    model.add(Activation(\"relu\"))\n",
    "    model.add(Conv2D(channels, kernel_size=3, padding=\"same\"))\n",
    "    model.add(Activation(\"tanh\"))\n",
    "    \n",
    "    return model\n",
    "\n",
    "# 테스트\n",
    "build_generator(100, 1).summary()"
   ]
  },
  {
   "cell_type": "markdown",
   "metadata": {},
   "source": [
    "#### 2-2. Discriminator 생성함수\n",
    "28x28 이미즈를 입력받아 Convolution 연산을 실행하여 feature vector를 생성하고 binary classification을 위한 하나의 노드를 출력하는 신경망입니다."
   ]
  },
  {
   "cell_type": "code",
   "execution_count": 5,
   "metadata": {},
   "outputs": [
    {
     "name": "stdout",
     "output_type": "stream",
     "text": [
      "WARNING:tensorflow:From /home/ec2-user/anaconda3/envs/tensorflow_p36/lib/python3.6/site-packages/keras/backend/tensorflow_backend.py:3445: calling dropout (from tensorflow.python.ops.nn_ops) with keep_prob is deprecated and will be removed in a future version.\n",
      "Instructions for updating:\n",
      "Please use `rate` instead of `keep_prob`. Rate should be set to `rate = 1 - keep_prob`.\n",
      "_________________________________________________________________\n",
      "Layer (type)                 Output Shape              Param #   \n",
      "=================================================================\n",
      "conv2d_4 (Conv2D)            (None, 14, 14, 32)        320       \n",
      "_________________________________________________________________\n",
      "leaky_re_lu_1 (LeakyReLU)    (None, 14, 14, 32)        0         \n",
      "_________________________________________________________________\n",
      "dropout_1 (Dropout)          (None, 14, 14, 32)        0         \n",
      "_________________________________________________________________\n",
      "conv2d_5 (Conv2D)            (None, 7, 7, 64)          18496     \n",
      "_________________________________________________________________\n",
      "zero_padding2d_1 (ZeroPaddin (None, 8, 8, 64)          0         \n",
      "_________________________________________________________________\n",
      "batch_normalization_3 (Batch (None, 8, 8, 64)          256       \n",
      "_________________________________________________________________\n",
      "leaky_re_lu_2 (LeakyReLU)    (None, 8, 8, 64)          0         \n",
      "_________________________________________________________________\n",
      "dropout_2 (Dropout)          (None, 8, 8, 64)          0         \n",
      "_________________________________________________________________\n",
      "conv2d_6 (Conv2D)            (None, 4, 4, 128)         73856     \n",
      "_________________________________________________________________\n",
      "batch_normalization_4 (Batch (None, 4, 4, 128)         512       \n",
      "_________________________________________________________________\n",
      "leaky_re_lu_3 (LeakyReLU)    (None, 4, 4, 128)         0         \n",
      "_________________________________________________________________\n",
      "dropout_3 (Dropout)          (None, 4, 4, 128)         0         \n",
      "_________________________________________________________________\n",
      "conv2d_7 (Conv2D)            (None, 4, 4, 256)         295168    \n",
      "_________________________________________________________________\n",
      "batch_normalization_5 (Batch (None, 4, 4, 256)         1024      \n",
      "_________________________________________________________________\n",
      "leaky_re_lu_4 (LeakyReLU)    (None, 4, 4, 256)         0         \n",
      "_________________________________________________________________\n",
      "dropout_4 (Dropout)          (None, 4, 4, 256)         0         \n",
      "_________________________________________________________________\n",
      "flatten_1 (Flatten)          (None, 4096)              0         \n",
      "_________________________________________________________________\n",
      "dense_2 (Dense)              (None, 1)                 4097      \n",
      "=================================================================\n",
      "Total params: 393,729\n",
      "Trainable params: 392,833\n",
      "Non-trainable params: 896\n",
      "_________________________________________________________________\n"
     ]
    }
   ],
   "source": [
    "def build_discriminator(img_shape):\n",
    "\n",
    "    model = Sequential()\n",
    "\n",
    "    model.add(Conv2D(32, kernel_size=3, strides=2, input_shape=img_shape, padding=\"same\"))\n",
    "    model.add(LeakyReLU(alpha=0.2))\n",
    "    model.add(Dropout(0.25))\n",
    "    model.add(Conv2D(64, kernel_size=3, strides=2, padding=\"same\"))\n",
    "    model.add(ZeroPadding2D(padding=((0,1),(0,1))))\n",
    "    model.add(BatchNormalization(momentum=0.8))\n",
    "    model.add(LeakyReLU(alpha=0.2))\n",
    "    model.add(Dropout(0.25))\n",
    "    model.add(Conv2D(128, kernel_size=3, strides=2, padding=\"same\"))\n",
    "    model.add(BatchNormalization(momentum=0.8))\n",
    "    model.add(LeakyReLU(alpha=0.2))\n",
    "    model.add(Dropout(0.25))\n",
    "    model.add(Conv2D(256, kernel_size=3, strides=1, padding=\"same\"))\n",
    "    model.add(BatchNormalization(momentum=0.8))\n",
    "    model.add(LeakyReLU(alpha=0.2))\n",
    "    model.add(Dropout(0.25))\n",
    "    model.add(Flatten())\n",
    "    model.add(Dense(1, activation='sigmoid'))\n",
    "    \n",
    "    return model\n",
    "\n",
    "#테스트\n",
    "build_discriminator((28,28,1)).summary()"
   ]
  },
  {
   "cell_type": "markdown",
   "metadata": {},
   "source": [
    "#### 2-3. DC GAN 네트워크 생성\n",
    "\n",
    "Generator와 Discriminator를 조합하여 GAN 네트워크를 생성합니다. "
   ]
  },
  {
   "cell_type": "code",
   "execution_count": 6,
   "metadata": {},
   "outputs": [
    {
     "name": "stdout",
     "output_type": "stream",
     "text": [
      "WARNING:tensorflow:From /home/ec2-user/anaconda3/envs/tensorflow_p36/lib/python3.6/site-packages/keras/optimizers.py:790: The name tf.train.Optimizer is deprecated. Please use tf.compat.v1.train.Optimizer instead.\n",
      "\n",
      "WARNING:tensorflow:From /home/ec2-user/anaconda3/envs/tensorflow_p36/lib/python3.6/site-packages/keras/backend/tensorflow_backend.py:3376: The name tf.log is deprecated. Please use tf.math.log instead.\n",
      "\n",
      "WARNING:tensorflow:From /home/ec2-user/anaconda3/envs/tensorflow_p36/lib/python3.6/site-packages/tensorflow_core/python/ops/nn_impl.py:183: where (from tensorflow.python.ops.array_ops) is deprecated and will be removed in a future version.\n",
      "Instructions for updating:\n",
      "Use tf.where in 2.0, which has the same broadcast rule as np.where\n",
      "_________________________________________________________________\n",
      "Layer (type)                 Output Shape              Param #   \n",
      "=================================================================\n",
      "input_1 (InputLayer)         (None, 100)               0         \n",
      "_________________________________________________________________\n",
      "sequential_4 (Sequential)    (None, 28, 28, 1)         856193    \n",
      "_________________________________________________________________\n",
      "sequential_3 (Sequential)    (None, 1)                 393729    \n",
      "=================================================================\n",
      "Total params: 1,249,922\n",
      "Trainable params: 855,809\n",
      "Non-trainable params: 394,113\n",
      "_________________________________________________________________\n"
     ]
    }
   ],
   "source": [
    "def get_dcgan(img_rows=28, img_cols=28, channels=1, latent_dim=100, lr=0.0002, beta_1=0.5):\n",
    "\n",
    "    img_shape = (img_rows, img_cols, channels)\n",
    "    optimizer = Adam(lr, beta_1)\n",
    "\n",
    "    # Build and compile the discriminator\n",
    "    discriminator = build_discriminator(img_shape)\n",
    "    discriminator.compile(loss='binary_crossentropy',\n",
    "        optimizer=optimizer,\n",
    "        metrics=['accuracy'])\n",
    "\n",
    "    # Build the generator\n",
    "    generator = build_generator(latent_dim, channels)\n",
    "\n",
    "    # The generator takes noise as input and generates imgs\n",
    "    z = Input(shape=(latent_dim,))\n",
    "    img = generator(z)\n",
    "\n",
    "    # For the combined model we will only train the generator\n",
    "    discriminator.trainable = False\n",
    "\n",
    "    # The discriminator takes generated images as input and determines validity\n",
    "    validity = discriminator(img)\n",
    "\n",
    "    # The combined model  (stacked generator and discriminator)\n",
    "    # Trains the generator to fool the discriminator\n",
    "    combined = Model(z, validity)\n",
    "    combined.compile(loss='binary_crossentropy', optimizer=optimizer)\n",
    "\n",
    "    return generator, discriminator, combined\n",
    "\n",
    "# 테스트\n",
    "_, _, combined = get_dcgan()\n",
    "combined.summary()"
   ]
  },
  {
   "cell_type": "markdown",
   "metadata": {},
   "source": [
    "#### 2-4. 유틸리티 함수 정의\n"
   ]
  },
  {
   "cell_type": "markdown",
   "metadata": {},
   "source": [
    "##### 이미지 feed 함수\n",
    "학습용 데이터를 feed하는 함수를 정의합니다. 본 예제는 minist로부터 데이터를 로드하고 있지만, 실제 업무 적용시 스토리지로부터 이미지를 읽고 numpy.arary 등 학습에서 요구되는 포맷으로 변환하는 내용이 구현될 것입니다."
   ]
  },
  {
   "cell_type": "code",
   "execution_count": 7,
   "metadata": {},
   "outputs": [
    {
     "data": {
      "text/plain": [
       "(60000, 28, 28, 1)"
      ]
     },
     "execution_count": 7,
     "metadata": {},
     "output_type": "execute_result"
    }
   ],
   "source": [
    "def feed_imgs():\n",
    "    # Load the dataset\n",
    "    (X_train, _), (_, _) = mnist.load_data()\n",
    "\n",
    "    # Rescale -1 to 1\n",
    "    X_train = X_train / 127.5 - 1.\n",
    "    X_train = np.expand_dims(X_train, axis=3)\n",
    "    \n",
    "    return X_train\n",
    "\n",
    "# 테스트\n",
    "feed_imgs().shape"
   ]
  },
  {
   "cell_type": "markdown",
   "metadata": {},
   "source": [
    "##### 이미지 저장함수\n",
    "Generator 를 통해 생성된 이미지를 저장하는 함수를 정의합니다. 학습진행에 따른 Generator의 성능 확인을 위해 사용할 것입니다."
   ]
  },
  {
   "cell_type": "code",
   "execution_count": 8,
   "metadata": {},
   "outputs": [],
   "source": [
    "!mkdir gen_images"
   ]
  },
  {
   "cell_type": "code",
   "execution_count": 9,
   "metadata": {},
   "outputs": [],
   "source": [
    "def save_imgs(epoch, latent_dim, generator, path='gen_images'):\n",
    "    r, c = 5, 5\n",
    "    noise = np.random.normal(0, 1, (r * c, latent_dim))\n",
    "    gen_imgs = generator.predict(noise)\n",
    "\n",
    "    # Rescale images 0 - 1\n",
    "    gen_imgs = 0.5 * gen_imgs + 0.5\n",
    "\n",
    "    fig, axs = plt.subplots(r, c)\n",
    "    cnt = 0\n",
    "    for i in range(r):\n",
    "        for j in range(c):\n",
    "            axs[i,j].imshow(gen_imgs[cnt, :,:,0], cmap='gray')\n",
    "            axs[i,j].axis('off')\n",
    "            cnt += 1\n",
    "    fig.savefig(\"{}/mnist_{}.png\".format(path, epoch))\n",
    "    plt.close()"
   ]
  },
  {
   "cell_type": "markdown",
   "metadata": {},
   "source": [
    "##### Model weight 저장함수\n",
    "\n",
    "Generator와 Discriminator의 네트워크 Weight값을 저장합니다."
   ]
  },
  {
   "cell_type": "code",
   "execution_count": 10,
   "metadata": {},
   "outputs": [],
   "source": [
    "!mkdir model"
   ]
  },
  {
   "cell_type": "code",
   "execution_count": 11,
   "metadata": {},
   "outputs": [],
   "source": [
    "def save_models(epoch, discriminator, generator, path='model'):\n",
    "    discriminator.save_weights('{}/d-{}.ckpt'.format(path,epoch))\n",
    "    generator.save_weights('{}/g-{}.ckpt'.format(path,epoch))\n",
    "    "
   ]
  },
  {
   "cell_type": "markdown",
   "metadata": {},
   "source": [
    "#### 2-5. GAN Training test\n",
    "\n",
    "정의한 GAN 네트워크가 학습이 잘 되는지 확인합니다. 디버깅이 목적이므로 epochs은 5번만 반복합니다."
   ]
  },
  {
   "cell_type": "code",
   "execution_count": 15,
   "metadata": {},
   "outputs": [],
   "source": [
    "def train_dcgan(epochs=5, batch_size=32, latent_dim=100, lr=0.0002, beta_1=0.5, \n",
    "                log_interval=100, save_interval=100, gen_image_path='gen_images', model_path='model') :\n",
    "    \n",
    "    X_train = feed_imgs()\n",
    "    \n",
    "    # Adversarial ground truths\n",
    "    valid = np.ones((batch_size, 1))\n",
    "    fake = np.zeros((batch_size, 1))\n",
    "    \n",
    "    # DCGAN Network definition\n",
    "    generator, discriminator, combined = get_dcgan(lr=lr, beta_1=beta_1, latent_dim=latent_dim)\n",
    "\n",
    "    d_losses = []\n",
    "    g_losses = []\n",
    "    for epoch in range(epochs):\n",
    "\n",
    "        # ---------------------\n",
    "        #  Train Discriminator\n",
    "        # ---------------------\n",
    "        # Select a random half of images\n",
    "        idx = np.random.randint(0, X_train.shape[0], batch_size)\n",
    "        imgs = X_train[idx]\n",
    "\n",
    "        # Sample noise and generate a batch of new images\n",
    "        noise = np.random.normal(0, 1, (batch_size, latent_dim))\n",
    "        gen_imgs = generator.predict(noise)\n",
    "\n",
    "        # Train the discriminator (real classified as ones and generated as zeros)\n",
    "        d_loss_real = discriminator.train_on_batch(imgs, valid)\n",
    "        d_loss_fake = discriminator.train_on_batch(gen_imgs, fake)\n",
    "        d_loss = 0.5 * np.add(d_loss_real, d_loss_fake)\n",
    "\n",
    "        # ---------------------\n",
    "        #  Train Generator\n",
    "        # ---------------------\n",
    "        # Train the generator (wants discriminator to mistake images as real)\n",
    "        g_loss = combined.train_on_batch(noise, valid)\n",
    "\n",
    "        # ---------------------\n",
    "        #  Training logs\n",
    "        # ---------------------\n",
    "        d_losses.append(d_loss)\n",
    "        g_losses.append(g_loss)\n",
    "\n",
    "        # Plot the progress\n",
    "        if epoch % log_interval == 0:\n",
    "            print (\"%5d [D loss: %f, acc.: %.2f%%] [G loss: %f] [d+g: %f] [d+2g: %f]\" % (epoch, d_loss[0], 100*d_loss[1], g_loss, (d_loss[0]+g_loss)/2, (d_loss[0]+2*g_loss)/3))\n",
    "\n",
    "        # If at save interval => save generated image samples\n",
    "        if epoch % save_interval == 0:\n",
    "            save_imgs(epoch, latent_dim, generator, gen_image_path)\n",
    "        \n",
    "    # save weights\n",
    "    save_models(epoch, discriminator, generator, model_path)\n",
    "    \n",
    "    return d_losses, g_losses"
   ]
  },
  {
   "cell_type": "code",
   "execution_count": 16,
   "metadata": {},
   "outputs": [
    {
     "name": "stderr",
     "output_type": "stream",
     "text": [
      "/home/ec2-user/anaconda3/envs/tensorflow_p36/lib/python3.6/site-packages/keras/engine/training.py:490: UserWarning: Discrepancy between trainable weights and collected trainable weights, did you set `model.trainable` without calling `model.compile` after ?\n",
      "  'Discrepancy between trainable weights and collected trainable'\n"
     ]
    },
    {
     "name": "stdout",
     "output_type": "stream",
     "text": [
      "WARNING:tensorflow:From /home/ec2-user/anaconda3/envs/tensorflow_p36/lib/python3.6/site-packages/keras/backend/tensorflow_backend.py:986: The name tf.assign_add is deprecated. Please use tf.compat.v1.assign_add instead.\n",
      "\n",
      "WARNING:tensorflow:From /home/ec2-user/anaconda3/envs/tensorflow_p36/lib/python3.6/site-packages/keras/backend/tensorflow_backend.py:973: The name tf.assign is deprecated. Please use tf.compat.v1.assign instead.\n",
      "\n"
     ]
    },
    {
     "name": "stderr",
     "output_type": "stream",
     "text": [
      "/home/ec2-user/anaconda3/envs/tensorflow_p36/lib/python3.6/site-packages/keras/engine/training.py:490: UserWarning: Discrepancy between trainable weights and collected trainable weights, did you set `model.trainable` without calling `model.compile` after ?\n",
      "  'Discrepancy between trainable weights and collected trainable'\n"
     ]
    },
    {
     "name": "stdout",
     "output_type": "stream",
     "text": [
      "    0 [D loss: 1.268515, acc.: 46.88%] [G loss: 0.417379] [d+g: 0.842947] [d+2g: 0.701091]\n"
     ]
    },
    {
     "name": "stderr",
     "output_type": "stream",
     "text": [
      "/home/ec2-user/anaconda3/envs/tensorflow_p36/lib/python3.6/site-packages/keras/engine/training.py:490: UserWarning: Discrepancy between trainable weights and collected trainable weights, did you set `model.trainable` without calling `model.compile` after ?\n",
      "  'Discrepancy between trainable weights and collected trainable'\n"
     ]
    },
    {
     "name": "stdout",
     "output_type": "stream",
     "text": [
      "    1 [D loss: 0.806940, acc.: 56.25%] [G loss: 1.069174] [d+g: 0.938057] [d+2g: 0.981762]\n",
      "    2 [D loss: 0.454102, acc.: 79.69%] [G loss: 1.645033] [d+g: 1.049567] [d+2g: 1.248056]\n",
      "    3 [D loss: 0.599610, acc.: 68.75%] [G loss: 1.645981] [d+g: 1.122795] [d+2g: 1.297190]\n",
      "    4 [D loss: 0.595011, acc.: 70.31%] [G loss: 1.675228] [d+g: 1.135119] [d+2g: 1.315156]\n",
      "CPU times: user 18.2 s, sys: 1.74 s, total: 20 s\n",
      "Wall time: 14.1 s\n"
     ]
    }
   ],
   "source": [
    "%%time\n",
    "d_losses, g_losses = train_dcgan(log_interval=1, save_interval=1)"
   ]
  },
  {
   "cell_type": "markdown",
   "metadata": {},
   "source": [
    "discriminator의 loss, accuracy와 generator의 loss가 리턴되었다. GAN의 정의에 따라 두 네트워크가 번갈아 가며 학습될 것이다."
   ]
  },
  {
   "cell_type": "code",
   "execution_count": 17,
   "metadata": {},
   "outputs": [
    {
     "data": {
      "image/png": "[encoded data removed]",
      "text/plain": [
       "<Figure size 720x216 with 1 Axes>"
      ]
     },
     "metadata": {},
     "output_type": "display_data"
    }
   ],
   "source": [
    "plt.figure(figsize=(10,3))\n",
    "plt.plot(d_losses)\n",
    "plt.plot(g_losses)\n",
    "plt.legend(['d_loss', 'd_acc', 'g_loss'])\n",
    "plt.show()"
   ]
  },
  {
   "cell_type": "markdown",
   "metadata": {},
   "source": [
    "---\n",
    "## 3. DCGAN SageMaker Training\n",
    "\n",
    "GAN 네트워크의 디버깅이 완료되었으므로 이제 클라우드의 GPU 자원을 이용하여 학습을 실행하겠습니다. 본 예제의 경우 CPU 환경 정도의 수준에서도 학습이 충분히 가능합니다. 하지만 이미지의 해상도가 높아지거나 BigGAN이나 StyleGAN과 같은 복잡한 GAN모델을 사용할 경우에는 GPU 환경이 필요할 것입니다. \n",
    "\n",
    "GPU 인스턴스 사용을 위해 aws에서 제공하는 머신러닝 서비스(플랫폼)인 SageMaker API를 이용합니다. SageMaker를 이용하면 학습하는 동안에만 GPU 인스턴스를 할당받고 학습완료 후 자원을 바로 반납하도록 구성할 수 있습니다. 해당 작업을 위해 앞서 테스트한 코드를 일부 변경하겠습니다. 수정한 코드는 이후 HPO 등 클라우드에서 반복하여 학습을 진행할 때 사용할 수 있할 수 있습니다. (HPO와 관련된 내용은 본 예제에서는 다루지 않습니다. https://github.com/mullue/sm-tf2/blob/master/tf-2-workflow.ipynb 등 다른 예제를 통해 확인할 수 있습니다.)\n"
   ]
  },
  {
   "cell_type": "markdown",
   "metadata": {},
   "source": [
    "#### 3-1. Training script 작성\n",
    "\n",
    "앞서 테스트한 코드를 변경하여 SageMaker Tensorflow Docker에서 학습을 실행할 수 있도록 별도 파일로 저장합니다. 해당 파일은 SageMaker를 통한 작업 실행시 entry_point라는 파라미터를 통해 컨테이너 내부로 copy될 것입니다. 해당 코드는 신경망 학습이 컨테이너 내부에서 실행될 수 있도록 다음 세 부분이 추가로 수정되었습니다. 코드와 함께 아래 내용을 확인합니다.\n",
    "\n",
    "\n",
    "#### entry point script 작성시 확인사항\n",
    "\n",
    "1. **입력(학습) 데이터 경로** - S3에 업로드된 학습데이터는 도커 컨테이너 내부의 `/opt/ml/input/data/{채널명}` 경로에 복제되므로 해당 위치에서 학습데이터를 읽어야 합니다. 여기서 채널명은 이후 셀에서 학습 실행(`fit`) 단계에 패스하게 되는 'train', 'test', 'validation' 등과 같은 구분값입니다. 해당 값은 도커 실행시 SM_CHANNEL_TRAIN 이라는 환경변수에 저장되어 있습니다. 본 예제에서는 해당 환경변수를 `args.train argument`를 통해 할당한 후 `get_train_data()` 함수 호출시 파라미터로 전달하는 구조를 사용하고 있습니다. (main함수 시작 부분의 코드를 참고하세요)\n",
    "\n",
    "2. **출력(모델) 데이터 경로** - 학습이 완료되면 학습 리소스는 반납되므로, 학습결과로 생성된 모델은 다른 경로에 저장해 두어야 합니다. SageMaker에서는 도커 컨테이너 내부에서 `/opt/ml/model/`경로에 저장된 모델 파일을 S3로 export합니다. 또 학습 산출물을 export하기 위한 `/opt/ml/output/`경로의 파일들도 S3로 export 됩니다. (NLP 문제일 경우 voacabulary, 생성이미지, 그래프, 별도 로그 등 작업에 따라 다양한 결과물을 처리할 수 있음.) 본 예제에서는 `SM_MODEL_DIR` 환경변수를 이용하여 main함수의 맨아래 줄에서 해당 경로에 모델을 저장하고 있습니다.\n",
    "\n",
    "3. **하이퍼파라미터 argument** - 학습실행을 요청하는 노트북환경에서 하이퍼파리미터 등을 제어할 경우에도 마찬가지 방식으로 command-line argument를 이용합니다. `Estimator` 선언시 Hyperparamenter로 지정한 값들은 entry point 스크립트 실행시 사용자 정의 argument의 형태로 전달됩니다. 위 코드에서 (앞 단계 Estimator 지정시 선언한 하이퍼파라미터인) `epoch`, `batch_size`, `learning_rate`을 parsing하는 부분을 확인합니다.\n",
    "\n",
    "\n",
    "#### 추가 참고사항\n",
    "SageMaker Tensorflow 컨테이너에서 실행되는 entry_point 스크립트 작성에 대한 보다 자세한 내용은 다음 SDK 문서를 참고하십시오.  \n",
    "https://sagemaker.readthedocs.io/en/stable/frameworks/tensorflow/using_tf.html#train-a-model-with-tensorflow\n",
    "\n",
    "또는 다음 예제를 통해 작성방법을 실습해 보십시오.  \n",
    "https://github.com/mullue/sm-tf2/blob/master/tf-2-workflow.ipynb\n",
    "\n"
   ]
  },
  {
   "cell_type": "code",
   "execution_count": 18,
   "metadata": {},
   "outputs": [],
   "source": [
    "!mkdir src"
   ]
  },
  {
   "cell_type": "code",
   "execution_count": 19,
   "metadata": {},
   "outputs": [
    {
     "name": "stdout",
     "output_type": "stream",
     "text": [
      "Writing src/dcgan.py\n"
     ]
    }
   ],
   "source": [
    "%%writefile src/dcgan.py\n",
    "\n",
    "# 필요한 라이브러리를 로드합니다.\n",
    "from __future__ import print_function, division\n",
    "from keras.datasets import mnist\n",
    "from keras.layers import Input, Dense, Reshape, Flatten, Dropout\n",
    "from keras.layers import BatchNormalization, Activation, ZeroPadding2D\n",
    "from keras.layers.advanced_activations import LeakyReLU\n",
    "from keras.layers.convolutional import UpSampling2D, Conv2D\n",
    "from keras.models import Sequential, Model\n",
    "from keras.optimizers import Adam\n",
    "import tensorflow as tf\n",
    "import sys\n",
    "import numpy as np\n",
    "import os\n",
    "import argparse\n",
    "# import math\n",
    "\n",
    "os.environ['TF_CPP_MIN_LOG_LEVEL'] = '3' \n",
    "# 컨테이너에서 기본으로 제공하지 않는 라이브러리를 추가로 설치 & import 합니다.\n",
    "os.system('pip install -r requirements.txt')\n",
    "import matplotlib.pyplot as plt\n",
    "\n",
    "\n",
    "# 컨테이너 외부에서 Hyperparameter와 Input/Output늘 제어하는 부분이 추가되었습니다.\n",
    "def parse_args():\n",
    "    \n",
    "    parser = argparse.ArgumentParser()\n",
    "                                \n",
    "    # hyperparameters sent by the client are passed as command-line arguments to the script\n",
    "    parser.add_argument('--epochs', type=int, default=1)\n",
    "    parser.add_argument('--batch_size', type=int, default=64)\n",
    "    parser.add_argument('--lr', type=float, default=0.000000005)\n",
    "    parser.add_argument('--beta_1', type=float, default=0.9)\n",
    "    parser.add_argument('--latent_dim', type=int, default=100)\n",
    "    parser.add_argument('--log_interval', type=int, default=10)\n",
    "    parser.add_argument('--save_interval', type=int, default=50)\n",
    "    # data directories\n",
    "#     parser.add_argument('--train', type=str, default=os.environ.get('SM_CHANNEL_TRAINING'))\n",
    "    parser.add_argument('--gen_image_path', type=str, default=os.environ.get('SM_MODEL_DIR'))\n",
    "    parser.add_argument('--model_path', type=str, default=os.environ.get('SM_MODEL_DIR'))\n",
    "    parser.add_argument('--model_dir', type=str, default=os.environ.get('SM_MODEL_DIR'))\n",
    "\n",
    "    return parser.parse_known_args()\n",
    "\n",
    "# 노트북에서 테스트한 generator 함수와 동일합니다.\n",
    "def build_generator(latent_dim, channels):\n",
    "\n",
    "    model = Sequential()\n",
    "\n",
    "    model.add(Dense(128 * 7 * 7, activation=\"relu\", input_dim=latent_dim))\n",
    "    model.add(Reshape((7, 7, 128)))\n",
    "    model.add(UpSampling2D())\n",
    "    model.add(Conv2D(128, kernel_size=3, padding=\"same\"))\n",
    "    model.add(BatchNormalization(momentum=0.8))\n",
    "    model.add(Activation(\"relu\"))\n",
    "    model.add(UpSampling2D())\n",
    "    model.add(Conv2D(64, kernel_size=3, padding=\"same\"))\n",
    "    model.add(BatchNormalization(momentum=0.8))\n",
    "    model.add(Activation(\"relu\"))\n",
    "    model.add(Conv2D(channels, kernel_size=3, padding=\"same\"))\n",
    "    model.add(Activation(\"tanh\"))\n",
    "    \n",
    "    return model\n",
    "\n",
    "# 노트북에서 테스트한 discriminator 함수와 동일합니다.\n",
    "def build_discriminator(img_shape):\n",
    "\n",
    "    model = Sequential()\n",
    "\n",
    "    model.add(Conv2D(32, kernel_size=3, strides=2, input_shape=img_shape, padding=\"same\"))\n",
    "    model.add(LeakyReLU(alpha=0.2))\n",
    "    model.add(Dropout(0.25))\n",
    "    model.add(Conv2D(64, kernel_size=3, strides=2, padding=\"same\"))\n",
    "    model.add(ZeroPadding2D(padding=((0,1),(0,1))))\n",
    "    model.add(BatchNormalization(momentum=0.8))\n",
    "    model.add(LeakyReLU(alpha=0.2))\n",
    "    model.add(Dropout(0.25))\n",
    "    model.add(Conv2D(128, kernel_size=3, strides=2, padding=\"same\"))\n",
    "    model.add(BatchNormalization(momentum=0.8))\n",
    "    model.add(LeakyReLU(alpha=0.2))\n",
    "    model.add(Dropout(0.25))\n",
    "    model.add(Conv2D(256, kernel_size=3, strides=1, padding=\"same\"))\n",
    "    model.add(BatchNormalization(momentum=0.8))\n",
    "    model.add(LeakyReLU(alpha=0.2))\n",
    "    model.add(Dropout(0.25))\n",
    "    model.add(Flatten())\n",
    "    model.add(Dense(1, activation='sigmoid'))\n",
    "    \n",
    "    return model\n",
    "\n",
    "# 노트북에서 테스트한 DCGAN 함수와 동일합니다.\n",
    "def get_dcgan(img_rows=28, img_cols=28, channels=1, latent_dim=100, lr=0.0002, beta_1=0.5):\n",
    "\n",
    "    img_shape = (img_rows, img_cols, channels)\n",
    "    optimizer = Adam(lr, beta_1)\n",
    "\n",
    "    # Build and compile the discriminator\n",
    "    discriminator = build_discriminator(img_shape)\n",
    "    discriminator.compile(loss='binary_crossentropy',\n",
    "        optimizer=optimizer,\n",
    "        metrics=['accuracy'])\n",
    "\n",
    "    # Build the generator\n",
    "    generator = build_generator(latent_dim, channels)\n",
    "\n",
    "    # The generator takes noise as input and generates imgs\n",
    "    z = Input(shape=(latent_dim,))\n",
    "    img = generator(z)\n",
    "\n",
    "    # For the combined model we will only train the generator\n",
    "    discriminator.trainable = False\n",
    "\n",
    "    # The discriminator takes generated images as input and determines validity\n",
    "    validity = discriminator(img)\n",
    "\n",
    "    # The combined model  (stacked generator and discriminator)\n",
    "    # Trains the generator to fool the discriminator\n",
    "    combined = Model(z, validity)\n",
    "    combined.compile(loss='binary_crossentropy', optimizer=optimizer)\n",
    "\n",
    "    return generator, discriminator, combined\n",
    "\n",
    "# 노트북에서 사용한 이미지 feed함수와 동일합니다.\n",
    "def feed_imgs():\n",
    "    # Load the dataset\n",
    "    (X_train, _), (_, _) = mnist.load_data()\n",
    "\n",
    "    # Rescale -1 to 1\n",
    "    X_train = X_train / 127.5 - 1.\n",
    "    X_train = np.expand_dims(X_train, axis=3)\n",
    "    \n",
    "    return X_train\n",
    "\n",
    "# 노트북에서 사용한 이미지 저장함수와 동일합니다.\n",
    "def save_imgs(epoch, latent_dim, generator, path='gen_images'):\n",
    "    r, c = 5, 5\n",
    "    noise = np.random.normal(0, 1, (r * c, latent_dim))\n",
    "    gen_imgs = generator.predict(noise)\n",
    "\n",
    "    # Rescale images 0 - 1\n",
    "    gen_imgs = 0.5 * gen_imgs + 0.5\n",
    "\n",
    "    fig, axs = plt.subplots(r, c)\n",
    "    cnt = 0\n",
    "    for i in range(r):\n",
    "        for j in range(c):\n",
    "            axs[i,j].imshow(gen_imgs[cnt, :,:,0], cmap='gray')\n",
    "            axs[i,j].axis('off')\n",
    "            cnt += 1\n",
    "    fig.savefig(\"{}/mnist_{}.png\".format(path, epoch))\n",
    "    plt.close()\n",
    "\n",
    "# 노트북에서 사용한 모델 저장함수와 동일합니다.\n",
    "def save_models(epoch, discriminator, generator, path='model'):\n",
    "    discriminator.save_weights('{}/d-{}.ckpt'.format(path,epoch))\n",
    "    generator.save_weights('{}/g-{}.ckpt'.format(path,epoch))\n",
    "    \n",
    "    \n",
    "# 노트북에서 사용한 training 함수와 동일합니다.\n",
    "def train_dcgan(epochs=5, batch_size=32, latent_dim=100, lr=0.0002, beta_1=0.5, \n",
    "                log_interval=100, save_interval=100, gen_image_path='gen_images', model_path='model') :\n",
    "    \n",
    "    X_train = feed_imgs()\n",
    "    \n",
    "    # Adversarial ground truths\n",
    "    valid = np.ones((batch_size, 1))\n",
    "    fake = np.zeros((batch_size, 1))\n",
    "    \n",
    "    # DCGAN Network definition\n",
    "    generator, discriminator, combined = get_dcgan(lr=lr, beta_1=beta_1, latent_dim=latent_dim)\n",
    "\n",
    "    d_losses = []\n",
    "    g_losses = []\n",
    "    for epoch in range(epochs):\n",
    "\n",
    "        # ---------------------\n",
    "        #  Train Discriminator\n",
    "        # ---------------------\n",
    "        # Select a random half of images\n",
    "        idx = np.random.randint(0, X_train.shape[0], batch_size)\n",
    "        imgs = X_train[idx]\n",
    "\n",
    "        # Sample noise and generate a batch of new images\n",
    "        noise = np.random.normal(0, 1, (batch_size, latent_dim))\n",
    "        gen_imgs = generator.predict(noise)\n",
    "\n",
    "        # Train the discriminator (real classified as ones and generated as zeros)\n",
    "        d_loss_real = discriminator.train_on_batch(imgs, valid)\n",
    "        d_loss_fake = discriminator.train_on_batch(gen_imgs, fake)\n",
    "        d_loss = 0.5 * np.add(d_loss_real, d_loss_fake)\n",
    "\n",
    "        # ---------------------\n",
    "        #  Train Generator\n",
    "        # ---------------------\n",
    "        # Train the generator (wants discriminator to mistake images as real)\n",
    "        g_loss = combined.train_on_batch(noise, valid)\n",
    "\n",
    "        # ---------------------\n",
    "        #  Training logs\n",
    "        # ---------------------\n",
    "        d_losses.append(d_loss)\n",
    "        g_losses.append(g_loss)\n",
    "\n",
    "        # Plot the progress\n",
    "        if epoch % log_interval == 0:\n",
    "            print (\"%5d [D loss: %f, acc.: %.2f%%] [G loss: %f] [d+g: %f] [d+2g: %f]\" % (epoch, d_loss[0], 100*d_loss[1], g_loss, (d_loss[0]+g_loss)/2, (d_loss[0]+2*g_loss)/3))\n",
    "\n",
    "        # If at save interval => save generated image samples\n",
    "        if epoch % save_interval == 0:\n",
    "            save_imgs(epoch, latent_dim, generator, gen_image_path)\n",
    "        \n",
    "    # save weights\n",
    "    save_models(epoch, discriminator, generator, model_path)\n",
    "    \n",
    "    return d_losses, g_losses            \n",
    "\n",
    "# SageMaker로부터 환경변수와 arugument를 통해 전달된 Hyperparameter 등 값을 parsing하여 training을 실행하도록 구성되었습니다.\n",
    "if __name__ == \"__main__\":\n",
    "    \n",
    "    args, _ = parse_args()\n",
    "    device = '/gpu:0' \n",
    "\n",
    "    # job paramters\n",
    "    print(\"== job parameters ======================================\")\n",
    "    batch_size = args.batch_size\n",
    "    epochs = args.epochs\n",
    "    latent_dim=args.latent_dim\n",
    "    lr = args.lr\n",
    "    beta_1=args.beta_1\n",
    "    log_interval=args.log_interval\n",
    "    save_interval=args.save_interval\n",
    "#     img_path=args.train\n",
    "    gen_image_path=args.gen_image_path\n",
    "    model_path=args.model_path\n",
    "    model_dir=args.model_dir\n",
    "\n",
    "    print(\"========================================================\")\n",
    "\n",
    "    # training 실행\n",
    "    d_losses, g_losses = train_dcgan(epochs=epochs, bach_size=batch_size, latent_dim=latent_dim, lr=lr, beta_1=beta_1, \n",
    "                                     log_interval=log_interval, save_interval=save_interval, \n",
    "                                     gen_image_path=gen_image_path, model_path=model_path) \n",
    "\n",
    "    # output 저장\n",
    "    with open('/opt/ml/output/data/g_losses.txt', 'w') as f:\n",
    "        for item in g_losses:\n",
    "            f.write(\"%s\\n\" % item)\n",
    "        "
   ]
  },
  {
   "cell_type": "markdown",
   "metadata": {},
   "source": [
    "컨테이너에 추가로 필요한 라이브러리를 별도 파일로 정의하였습니다."
   ]
  },
  {
   "cell_type": "code",
   "execution_count": 20,
   "metadata": {},
   "outputs": [
    {
     "name": "stdout",
     "output_type": "stream",
     "text": [
      "Writing src/requirements.txt\n"
     ]
    }
   ],
   "source": [
    "%%writefile src/requirements.txt\n",
    "-i https://pypi.org/simple\n",
    "matplotlib==3.1.1"
   ]
  },
  {
   "cell_type": "markdown",
   "metadata": {},
   "source": [
    "#### 3-2. SageMaker local mode로 테스트하기"
   ]
  },
  {
   "cell_type": "markdown",
   "metadata": {},
   "source": [
    "train_instance_type 을 'local'로 지정하고 실행하면 로컬환경에 Tensorflow 컨테이너를 생성하여 학습을 실행합니다. 이 방법으로 SageMaker local mode라고 부릅니다. 로컬모드 이용시 클라우드에서 실행하는 것 보다 빠르게 결과를 확인할 수 있습니다. 이 기능은 entry_point 코드를 디버깅할 때 유용합니다."
   ]
  },
  {
   "cell_type": "code",
   "execution_count": 21,
   "metadata": {},
   "outputs": [],
   "source": [
    "import sagemaker\n",
    "from sagemaker.tensorflow import TensorFlow\n",
    "\n",
    "train_instance_type = 'local'\n",
    "model_dir = '/opt/ml/model'\n",
    "\n",
    "hyperparameters = {'epochs': 5, 'batch_size': 64, 'lr': 0.0002, 'beta_1':0.5,\n",
    "                   'log_interval':1, 'save_interval':1 ,\n",
    "                   'gen_image_path':'/opt/ml/output/data', 'model_path':model_dir}\n",
    "\n",
    "estimator = TensorFlow(source_dir='src',\n",
    "                             entry_point='dcgan.py',\n",
    "                             train_instance_type=train_instance_type,\n",
    "                             model_dir=model_dir,\n",
    "                             train_instance_count=1,\n",
    "                             hyperparameters=hyperparameters,\n",
    "                             role=sagemaker.get_execution_role(),\n",
    "                             base_job_name='sm-tf-dcgan',\n",
    "                             framework_version='1.13',\n",
    "                             py_version='py3',\n",
    "                             script_mode=True)"
   ]
  },
  {
   "cell_type": "markdown",
   "metadata": {},
   "source": [
    "본 예제에서는 mnist 라이브러리로부터 파일을 가져오도록 설계되어 training 이미 입력채널은 별도로 사용하지 않습니다. 만약 S3에 저장된 이미지 파일 등을 학습용 이미지로 사용하는 경우 fit()함수의 매개변수로 전달하여야 합니다. 해당 방법은 https://github.com/mullue/sm-tf2/blob/master/tf-2-workflow.ipynb 등 다른 Tensorflow script mode 예제를 참조할 수 있습니다. "
   ]
  },
  {
   "cell_type": "code",
   "execution_count": 22,
   "metadata": {},
   "outputs": [
    {
     "name": "stdout",
     "output_type": "stream",
     "text": [
      "Creating tmpgq19fv4a_algo-1-gv913_1 ... \n",
      "\u001b[1BAttaching to tmpgq19fv4a_algo-1-gv913_12mdone\u001b[0m\n",
      "\u001b[36malgo-1-gv913_1  |\u001b[0m 2020-06-15 01:41:17,787 sagemaker-containers INFO     Imported framework sagemaker_tensorflow_container.training\n",
      "\u001b[36malgo-1-gv913_1  |\u001b[0m 2020-06-15 01:41:17,793 sagemaker-containers INFO     No GPUs detected (normal if no gpus installed)\n",
      "\u001b[36malgo-1-gv913_1  |\u001b[0m 2020-06-15 01:41:17,936 sagemaker-containers INFO     No GPUs detected (normal if no gpus installed)\n",
      "\u001b[36malgo-1-gv913_1  |\u001b[0m 2020-06-15 01:41:17,953 sagemaker-containers INFO     No GPUs detected (normal if no gpus installed)\n",
      "\u001b[36malgo-1-gv913_1  |\u001b[0m 2020-06-15 01:41:17,970 sagemaker-containers INFO     No GPUs detected (normal if no gpus installed)\n",
      "\u001b[36malgo-1-gv913_1  |\u001b[0m 2020-06-15 01:41:17,981 sagemaker-containers INFO     Invoking user script\n",
      "\u001b[36malgo-1-gv913_1  |\u001b[0m \n",
      "\u001b[36malgo-1-gv913_1  |\u001b[0m Training Env:\n",
      "\u001b[36malgo-1-gv913_1  |\u001b[0m \n",
      "\u001b[36malgo-1-gv913_1  |\u001b[0m {\n",
      "\u001b[36malgo-1-gv913_1  |\u001b[0m     \"additional_framework_parameters\": {},\n",
      "\u001b[36malgo-1-gv913_1  |\u001b[0m     \"channel_input_dirs\": {},\n",
      "\u001b[36malgo-1-gv913_1  |\u001b[0m     \"current_host\": \"algo-1-gv913\",\n",
      "\u001b[36malgo-1-gv913_1  |\u001b[0m     \"framework_module\": \"sagemaker_tensorflow_container.training:main\",\n",
      "\u001b[36malgo-1-gv913_1  |\u001b[0m     \"hosts\": [\n",
      "\u001b[36malgo-1-gv913_1  |\u001b[0m         \"algo-1-gv913\"\n",
      "\u001b[36malgo-1-gv913_1  |\u001b[0m     ],\n",
      "\u001b[36malgo-1-gv913_1  |\u001b[0m     \"hyperparameters\": {\n",
      "\u001b[36malgo-1-gv913_1  |\u001b[0m         \"epochs\": 5,\n",
      "\u001b[36malgo-1-gv913_1  |\u001b[0m         \"batch_size\": 64,\n",
      "\u001b[36malgo-1-gv913_1  |\u001b[0m         \"lr\": 0.0002,\n",
      "\u001b[36malgo-1-gv913_1  |\u001b[0m         \"beta_1\": 0.5,\n",
      "\u001b[36malgo-1-gv913_1  |\u001b[0m         \"log_interval\": 1,\n",
      "\u001b[36malgo-1-gv913_1  |\u001b[0m         \"save_interval\": 1,\n",
      "\u001b[36malgo-1-gv913_1  |\u001b[0m         \"gen_image_path\": \"/opt/ml/output/data\",\n",
      "\u001b[36malgo-1-gv913_1  |\u001b[0m         \"model_path\": \"/opt/ml/model\",\n",
      "\u001b[36malgo-1-gv913_1  |\u001b[0m         \"model_dir\": \"/opt/ml/model\"\n",
      "\u001b[36malgo-1-gv913_1  |\u001b[0m     },\n",
      "\u001b[36malgo-1-gv913_1  |\u001b[0m     \"input_config_dir\": \"/opt/ml/input/config\",\n",
      "\u001b[36malgo-1-gv913_1  |\u001b[0m     \"input_data_config\": {},\n",
      "\u001b[36malgo-1-gv913_1  |\u001b[0m     \"input_dir\": \"/opt/ml/input\",\n",
      "\u001b[36malgo-1-gv913_1  |\u001b[0m     \"is_master\": true,\n",
      "\u001b[36malgo-1-gv913_1  |\u001b[0m     \"job_name\": \"sm-tf-dcgan-2020-06-15-01-40-46-127\",\n",
      "\u001b[36malgo-1-gv913_1  |\u001b[0m     \"log_level\": 20,\n",
      "\u001b[36malgo-1-gv913_1  |\u001b[0m     \"master_hostname\": \"algo-1-gv913\",\n",
      "\u001b[36malgo-1-gv913_1  |\u001b[0m     \"model_dir\": \"/opt/ml/model\",\n",
      "\u001b[36malgo-1-gv913_1  |\u001b[0m     \"module_dir\": \"s3://sagemaker-us-east-1-308961792850/sm-tf-dcgan-2020-06-15-01-40-46-127/source/sourcedir.tar.gz\",\n",
      "\u001b[36malgo-1-gv913_1  |\u001b[0m     \"module_name\": \"dcgan\",\n",
      "\u001b[36malgo-1-gv913_1  |\u001b[0m     \"network_interface_name\": \"eth0\",\n",
      "\u001b[36malgo-1-gv913_1  |\u001b[0m     \"num_cpus\": 8,\n",
      "\u001b[36malgo-1-gv913_1  |\u001b[0m     \"num_gpus\": 0,\n",
      "\u001b[36malgo-1-gv913_1  |\u001b[0m     \"output_data_dir\": \"/opt/ml/output/data\",\n",
      "\u001b[36malgo-1-gv913_1  |\u001b[0m     \"output_dir\": \"/opt/ml/output\",\n",
      "\u001b[36malgo-1-gv913_1  |\u001b[0m     \"output_intermediate_dir\": \"/opt/ml/output/intermediate\",\n",
      "\u001b[36malgo-1-gv913_1  |\u001b[0m     \"resource_config\": {\n",
      "\u001b[36malgo-1-gv913_1  |\u001b[0m         \"current_host\": \"algo-1-gv913\",\n",
      "\u001b[36malgo-1-gv913_1  |\u001b[0m         \"hosts\": [\n",
      "\u001b[36malgo-1-gv913_1  |\u001b[0m             \"algo-1-gv913\"\n",
      "\u001b[36malgo-1-gv913_1  |\u001b[0m         ]\n",
      "\u001b[36malgo-1-gv913_1  |\u001b[0m     },\n",
      "\u001b[36malgo-1-gv913_1  |\u001b[0m     \"user_entry_point\": \"dcgan.py\"\n",
      "\u001b[36malgo-1-gv913_1  |\u001b[0m }\n",
      "\u001b[36malgo-1-gv913_1  |\u001b[0m \n",
      "\u001b[36malgo-1-gv913_1  |\u001b[0m Environment variables:\n",
      "\u001b[36malgo-1-gv913_1  |\u001b[0m \n",
      "\u001b[36malgo-1-gv913_1  |\u001b[0m SM_HOSTS=[\"algo-1-gv913\"]\n",
      "\u001b[36malgo-1-gv913_1  |\u001b[0m SM_NETWORK_INTERFACE_NAME=eth0\n",
      "\u001b[36malgo-1-gv913_1  |\u001b[0m SM_HPS={\"batch_size\":64,\"beta_1\":0.5,\"epochs\":5,\"gen_image_path\":\"/opt/ml/output/data\",\"log_interval\":1,\"lr\":0.0002,\"model_dir\":\"/opt/ml/model\",\"model_path\":\"/opt/ml/model\",\"save_interval\":1}\n",
      "\u001b[36malgo-1-gv913_1  |\u001b[0m SM_USER_ENTRY_POINT=dcgan.py\n",
      "\u001b[36malgo-1-gv913_1  |\u001b[0m SM_FRAMEWORK_PARAMS={}\n",
      "\u001b[36malgo-1-gv913_1  |\u001b[0m SM_RESOURCE_CONFIG={\"current_host\":\"algo-1-gv913\",\"hosts\":[\"algo-1-gv913\"]}\n",
      "\u001b[36malgo-1-gv913_1  |\u001b[0m SM_INPUT_DATA_CONFIG={}\n",
      "\u001b[36malgo-1-gv913_1  |\u001b[0m SM_OUTPUT_DATA_DIR=/opt/ml/output/data\n",
      "\u001b[36malgo-1-gv913_1  |\u001b[0m SM_CHANNELS=[]\n",
      "\u001b[36malgo-1-gv913_1  |\u001b[0m SM_CURRENT_HOST=algo-1-gv913\n",
      "\u001b[36malgo-1-gv913_1  |\u001b[0m SM_MODULE_NAME=dcgan\n",
      "\u001b[36malgo-1-gv913_1  |\u001b[0m SM_LOG_LEVEL=20\n",
      "\u001b[36malgo-1-gv913_1  |\u001b[0m SM_FRAMEWORK_MODULE=sagemaker_tensorflow_container.training:main\n",
      "\u001b[36malgo-1-gv913_1  |\u001b[0m SM_INPUT_DIR=/opt/ml/input\n",
      "\u001b[36malgo-1-gv913_1  |\u001b[0m SM_INPUT_CONFIG_DIR=/opt/ml/input/config\n",
      "\u001b[36malgo-1-gv913_1  |\u001b[0m SM_OUTPUT_DIR=/opt/ml/output\n",
      "\u001b[36malgo-1-gv913_1  |\u001b[0m SM_NUM_CPUS=8\n",
      "\u001b[36malgo-1-gv913_1  |\u001b[0m SM_NUM_GPUS=0\n",
      "\u001b[36malgo-1-gv913_1  |\u001b[0m SM_MODEL_DIR=/opt/ml/model\n",
      "\u001b[36malgo-1-gv913_1  |\u001b[0m SM_MODULE_DIR=s3://sagemaker-us-east-1-308961792850/sm-tf-dcgan-2020-06-15-01-40-46-127/source/sourcedir.tar.gz\n",
      "\u001b[36malgo-1-gv913_1  |\u001b[0m SM_TRAINING_ENV={\"additional_framework_parameters\":{},\"channel_input_dirs\":{},\"current_host\":\"algo-1-gv913\",\"framework_module\":\"sagemaker_tensorflow_container.training:main\",\"hosts\":[\"algo-1-gv913\"],\"hyperparameters\":{\"batch_size\":64,\"beta_1\":0.5,\"epochs\":5,\"gen_image_path\":\"/opt/ml/output/data\",\"log_interval\":1,\"lr\":0.0002,\"model_dir\":\"/opt/ml/model\",\"model_path\":\"/opt/ml/model\",\"save_interval\":1},\"input_config_dir\":\"/opt/ml/input/config\",\"input_data_config\":{},\"input_dir\":\"/opt/ml/input\",\"is_master\":true,\"job_name\":\"sm-tf-dcgan-2020-06-15-01-40-46-127\",\"log_level\":20,\"master_hostname\":\"algo-1-gv913\",\"model_dir\":\"/opt/ml/model\",\"module_dir\":\"s3://sagemaker-us-east-1-308961792850/sm-tf-dcgan-2020-06-15-01-40-46-127/source/sourcedir.tar.gz\",\"module_name\":\"dcgan\",\"network_interface_name\":\"eth0\",\"num_cpus\":8,\"num_gpus\":0,\"output_data_dir\":\"/opt/ml/output/data\",\"output_dir\":\"/opt/ml/output\",\"output_intermediate_dir\":\"/opt/ml/output/intermediate\",\"resource_config\":{\"current_host\":\"algo-1-gv913\",\"hosts\":[\"algo-1-gv913\"]},\"user_entry_point\":\"dcgan.py\"}\n",
      "\u001b[36malgo-1-gv913_1  |\u001b[0m SM_USER_ARGS=[\"--batch_size\",\"64\",\"--beta_1\",\"0.5\",\"--epochs\",\"5\",\"--gen_image_path\",\"/opt/ml/output/data\",\"--log_interval\",\"1\",\"--lr\",\"0.0002\",\"--model_dir\",\"/opt/ml/model\",\"--model_path\",\"/opt/ml/model\",\"--save_interval\",\"1\"]\n",
      "\u001b[36malgo-1-gv913_1  |\u001b[0m SM_OUTPUT_INTERMEDIATE_DIR=/opt/ml/output/intermediate\n",
      "\u001b[36malgo-1-gv913_1  |\u001b[0m SM_HP_EPOCHS=5\n",
      "\u001b[36malgo-1-gv913_1  |\u001b[0m SM_HP_BATCH_SIZE=64\n",
      "\u001b[36malgo-1-gv913_1  |\u001b[0m SM_HP_LR=0.0002\n",
      "\u001b[36malgo-1-gv913_1  |\u001b[0m SM_HP_BETA_1=0.5\n",
      "\u001b[36malgo-1-gv913_1  |\u001b[0m SM_HP_LOG_INTERVAL=1\n",
      "\u001b[36malgo-1-gv913_1  |\u001b[0m SM_HP_SAVE_INTERVAL=1\n",
      "\u001b[36malgo-1-gv913_1  |\u001b[0m SM_HP_GEN_IMAGE_PATH=/opt/ml/output/data\n",
      "\u001b[36malgo-1-gv913_1  |\u001b[0m SM_HP_MODEL_PATH=/opt/ml/model\n",
      "\u001b[36malgo-1-gv913_1  |\u001b[0m SM_HP_MODEL_DIR=/opt/ml/model\n",
      "\u001b[36malgo-1-gv913_1  |\u001b[0m PYTHONPATH=/opt/ml/code:/usr/local/bin:/usr/local/lib/python36.zip:/usr/local/lib/python3.6:/usr/local/lib/python3.6/lib-dynload:/usr/local/lib/python3.6/site-packages\n",
      "\u001b[36malgo-1-gv913_1  |\u001b[0m \n",
      "\u001b[36malgo-1-gv913_1  |\u001b[0m Invoking script with the following command:\n",
      "\u001b[36malgo-1-gv913_1  |\u001b[0m \n",
      "\u001b[36malgo-1-gv913_1  |\u001b[0m /usr/local/bin/python3.6 dcgan.py --batch_size 64 --beta_1 0.5 --epochs 5 --gen_image_path /opt/ml/output/data --log_interval 1 --lr 0.0002 --model_dir /opt/ml/model --model_path /opt/ml/model --save_interval 1\n",
      "\u001b[36malgo-1-gv913_1  |\u001b[0m \n",
      "\u001b[36malgo-1-gv913_1  |\u001b[0m \n",
      "\u001b[36malgo-1-gv913_1  |\u001b[0m Using TensorFlow backend.\n",
      "\u001b[36malgo-1-gv913_1  |\u001b[0m Collecting matplotlib==3.1.1 (from -r requirements.txt (line 2))\n",
      "\u001b[36malgo-1-gv913_1  |\u001b[0m \u001b[?25l  Downloading https://files.pythonhosted.org/packages/57/4f/dd381ecf6c6ab9bcdaa8ea912e866dedc6e696756156d8ecc087e20817e2/matplotlib-3.1.1-cp36-cp36m-manylinux1_x86_64.whl (13.1MB)\n",
      "\u001b[K     |████████████████████████████████| 13.1MB 21.8MB/s eta 0:00:01\n",
      "\u001b[36malgo-1-gv913_1  |\u001b[0m \u001b[?25hCollecting pyparsing!=2.0.4,!=2.1.2,!=2.1.6,>=2.0.1 (from matplotlib==3.1.1->-r requirements.txt (line 2))\n",
      "\u001b[36malgo-1-gv913_1  |\u001b[0m \u001b[?25l  Downloading https://files.pythonhosted.org/packages/8a/bb/488841f56197b13700afd5658fc279a2025a39e22449b7cf29864669b15d/pyparsing-2.4.7-py2.py3-none-any.whl (67kB)\n",
      "\u001b[K     |████████████████████████████████| 71kB 36.4MB/s eta 0:00:01\n",
      "\u001b[36malgo-1-gv913_1  |\u001b[0m \u001b[?25hCollecting cycler>=0.10 (from matplotlib==3.1.1->-r requirements.txt (line 2))\n",
      "\u001b[36malgo-1-gv913_1  |\u001b[0m   Downloading https://files.pythonhosted.org/packages/f7/d2/e07d3ebb2bd7af696440ce7e754c59dd546ffe1bbe732c8ab68b9c834e61/cycler-0.10.0-py2.py3-none-any.whl\n",
      "\u001b[36malgo-1-gv913_1  |\u001b[0m Requirement already satisfied: numpy>=1.11 in /usr/local/lib/python3.6/site-packages (from matplotlib==3.1.1->-r requirements.txt (line 2)) (1.16.4)\n",
      "\u001b[36malgo-1-gv913_1  |\u001b[0m Requirement already satisfied: python-dateutil>=2.1 in /usr/local/lib/python3.6/site-packages (from matplotlib==3.1.1->-r requirements.txt (line 2)) (2.8.0)\n",
      "\u001b[36malgo-1-gv913_1  |\u001b[0m Collecting kiwisolver>=1.0.1 (from matplotlib==3.1.1->-r requirements.txt (line 2))\n",
      "\u001b[36malgo-1-gv913_1  |\u001b[0m \u001b[?25l  Downloading https://files.pythonhosted.org/packages/ae/23/147de658aabbf968324551ea22c0c13a00284c4ef49a77002e91f79657b7/kiwisolver-1.2.0-cp36-cp36m-manylinux1_x86_64.whl (88kB)\n",
      "\u001b[K     |████████████████████████████████| 92kB 40.4MB/s eta 0:00:01\n",
      "\u001b[36malgo-1-gv913_1  |\u001b[0m \u001b[?25hRequirement already satisfied: six in /usr/local/lib/python3.6/site-packages (from cycler>=0.10->matplotlib==3.1.1->-r requirements.txt (line 2)) (1.12.0)\n",
      "\u001b[36malgo-1-gv913_1  |\u001b[0m Installing collected packages: pyparsing, cycler, kiwisolver, matplotlib\n",
      "\u001b[36malgo-1-gv913_1  |\u001b[0m Successfully installed cycler-0.10.0 kiwisolver-1.2.0 matplotlib-3.1.1 pyparsing-2.4.7\n",
      "\u001b[36malgo-1-gv913_1  |\u001b[0m \u001b[33mWARNING: You are using pip version 19.1.1, however version 20.1.1 is available.\n",
      "\u001b[36malgo-1-gv913_1  |\u001b[0m You should consider upgrading via the 'pip install --upgrade pip' command.\u001b[0m\n",
      "\u001b[36malgo-1-gv913_1  |\u001b[0m == job parameters ======================================\n",
      "\u001b[36malgo-1-gv913_1  |\u001b[0m ========================================================\n",
      "\u001b[36malgo-1-gv913_1  |\u001b[0m Downloading data from https://s3.amazonaws.com/img-datasets/mnist.npz\n",
      "11493376/11490434 [==============================] - 0s 0us/step\n",
      "\u001b[36malgo-1-gv913_1  |\u001b[0m WARNING:tensorflow:From /usr/local/lib/python3.6/site-packages/tensorflow/python/framework/op_def_library.py:263: colocate_with (from tensorflow.python.framework.ops) is deprecated and will be removed in a future version.\n",
      "\u001b[36malgo-1-gv913_1  |\u001b[0m Instructions for updating:\n",
      "\u001b[36malgo-1-gv913_1  |\u001b[0m Colocations handled automatically by placer.\n",
      "\u001b[36malgo-1-gv913_1  |\u001b[0m WARNING:tensorflow:From /usr/local/lib/python3.6/site-packages/keras/backend/tensorflow_backend.py:3445: calling dropout (from tensorflow.python.ops.nn_ops) with keep_prob is deprecated and will be removed in a future version.\n",
      "\u001b[36malgo-1-gv913_1  |\u001b[0m Instructions for updating:\n",
      "\u001b[36malgo-1-gv913_1  |\u001b[0m Please use `rate` instead of `keep_prob`. Rate should be set to `rate = 1 - keep_prob`.\n",
      "\u001b[36malgo-1-gv913_1  |\u001b[0m /usr/local/lib/python3.6/site-packages/keras/engine/training.py:490: UserWarning: Discrepancy between trainable weights and collected trainable weights, did you set `model.trainable` without calling `model.compile` after ?\n",
      "\u001b[36malgo-1-gv913_1  |\u001b[0m   'Discrepancy between trainable weights and collected trainable'\n",
      "\u001b[36malgo-1-gv913_1  |\u001b[0m WARNING:tensorflow:From /usr/local/lib/python3.6/site-packages/tensorflow/python/ops/math_ops.py:3066: to_int32 (from tensorflow.python.ops.math_ops) is deprecated and will be removed in a future version.\n",
      "\u001b[36malgo-1-gv913_1  |\u001b[0m Instructions for updating:\n",
      "\u001b[36malgo-1-gv913_1  |\u001b[0m Use tf.cast instead.\n",
      "\u001b[36malgo-1-gv913_1  |\u001b[0m     0 [D loss: 1.001276, acc.: 41.41%] [G loss: 0.716032] [d+g: 0.858654] [d+2g: 0.811113]\n",
      "\u001b[36malgo-1-gv913_1  |\u001b[0m     1 [D loss: 0.493684, acc.: 75.00%] [G loss: 1.431211] [d+g: 0.962447] [d+2g: 1.118702]\n",
      "\u001b[36malgo-1-gv913_1  |\u001b[0m     2 [D loss: 0.340137, acc.: 87.50%] [G loss: 2.034245] [d+g: 1.187191] [d+2g: 1.469542]\n",
      "\u001b[36malgo-1-gv913_1  |\u001b[0m     3 [D loss: 0.241950, acc.: 92.97%] [G loss: 2.523259] [d+g: 1.382605] [d+2g: 1.762823]\n",
      "\u001b[36malgo-1-gv913_1  |\u001b[0m     4 [D loss: 0.304366, acc.: 87.50%] [G loss: 2.727900] [d+g: 1.516133] [d+2g: 1.920055]\n",
      "\u001b[36malgo-1-gv913_1  |\u001b[0m 2020-06-15 01:41:34,400 sagemaker_tensorflow_container.training WARNING  Your model will NOT be servable with SageMaker TensorFlow Serving container.The model artifact was not saved in the TensorFlow SavedModel directory structure:\n",
      "\u001b[36malgo-1-gv913_1  |\u001b[0m https://www.tensorflow.org/guide/saved_model#structure_of_a_savedmodel_directory\n",
      "\u001b[36malgo-1-gv913_1  |\u001b[0m 2020-06-15 01:41:34,400 sagemaker-containers INFO     Reporting training SUCCESS\n",
      "\u001b[36mtmpgq19fv4a_algo-1-gv913_1 exited with code 0\n",
      "\u001b[0mAborting on container exit...\n"
     ]
    },
    {
     "name": "stderr",
     "output_type": "stream",
     "text": [
      "Failed to delete: /tmp/tmpgq19fv4a/algo-1-gv913 Please remove it manually.\n"
     ]
    },
    {
     "name": "stdout",
     "output_type": "stream",
     "text": [
      "===== Job Complete =====\n",
      "CPU times: user 479 ms, sys: 76.1 ms, total: 555 ms\n",
      "Wall time: 49.4 s\n"
     ]
    }
   ],
   "source": [
    "%%time\n",
    "estimator.fit()"
   ]
  },
  {
   "cell_type": "markdown",
   "metadata": {},
   "source": [
    "#### 3-3. SageMaker Cloud에서 Training 작업 실행하기\n",
    "\n",
    "코드가 준비되었고 디버깅이 완료되었으면 이제 클라우드로 작업을 제출합니다. local mode 실행설정으로부터 다음 내용을 수정하였습니다.\n",
    "- train_instance_type : 'local' -> 'ml.p3.2xlarge' (NVidia V100 GPU가 탑재된 인스턴스로 정의합니다.)\n",
    "- epochs : 5 -> 1000 \n",
    "- log_interval : 1 -> 100\n",
    "- save_interval : 1 -> 100"
   ]
  },
  {
   "cell_type": "code",
   "execution_count": 23,
   "metadata": {},
   "outputs": [],
   "source": [
    "train_instance_type = 'ml.p3.2xlarge'\n",
    "model_dir = '/opt/ml/model'\n",
    "\n",
    "hyperparameters = {'epochs': 10000, 'batch_size': 64, 'lr': 0.0002, 'beta_1':0.5,\n",
    "                   'log_interval':100, 'save_interval':100 ,\n",
    "                   'gen_image_path':'/opt/ml/output/data', 'model_path':model_dir}\n",
    "\n",
    "estimator = TensorFlow(source_dir='src',\n",
    "                             entry_point='dcgan.py',\n",
    "                             train_instance_type=train_instance_type,\n",
    "                             model_dir=model_dir,\n",
    "                             train_instance_count=1,\n",
    "                             hyperparameters=hyperparameters,\n",
    "                             role=sagemaker.get_execution_role(),\n",
    "                             base_job_name='sm-tf-dcgan',\n",
    "                             framework_version='1.13',\n",
    "                             py_version='py3',\n",
    "                             script_mode=True)"
   ]
  },
  {
   "cell_type": "markdown",
   "metadata": {},
   "source": [
    "학습을 실행합니다. 약 8분 정도가 소요됩니다."
   ]
  },
  {
   "cell_type": "code",
   "execution_count": 24,
   "metadata": {},
   "outputs": [
    {
     "name": "stdout",
     "output_type": "stream",
     "text": [
      "2020-06-15 01:41:50 Starting - Starting the training job...\n",
      "2020-06-15 01:41:52 Starting - Launching requested ML instances......\n",
      "2020-06-15 01:43:05 Starting - Preparing the instances for training......\n",
      "2020-06-15 01:44:05 Downloading - Downloading input data...\n",
      "2020-06-15 01:44:26 Training - Downloading the training image..\u001b[34m2020-06-15 01:44:57,371 sagemaker-containers INFO     Imported framework sagemaker_tensorflow_container.training\u001b[0m\n",
      "\u001b[34m2020-06-15 01:44:57,749 sagemaker-containers INFO     Invoking user script\n",
      "\u001b[0m\n",
      "\u001b[34mTraining Env:\n",
      "\u001b[0m\n",
      "\u001b[34m{\n",
      "    \"additional_framework_parameters\": {},\n",
      "    \"channel_input_dirs\": {},\n",
      "    \"current_host\": \"algo-1\",\n",
      "    \"framework_module\": \"sagemaker_tensorflow_container.training:main\",\n",
      "    \"hosts\": [\n",
      "        \"algo-1\"\n",
      "    ],\n",
      "    \"hyperparameters\": {\n",
      "        \"beta_1\": 0.5,\n",
      "        \"batch_size\": 64,\n",
      "        \"lr\": 0.0002,\n",
      "        \"log_interval\": 100,\n",
      "        \"model_path\": \"/opt/ml/model\",\n",
      "        \"save_interval\": 100,\n",
      "        \"gen_image_path\": \"/opt/ml/output/data\",\n",
      "        \"model_dir\": \"/opt/ml/model\",\n",
      "        \"epochs\": 10000\n",
      "    },\n",
      "    \"input_config_dir\": \"/opt/ml/input/config\",\n",
      "    \"input_data_config\": {},\n",
      "    \"input_dir\": \"/opt/ml/input\",\n",
      "    \"is_master\": true,\n",
      "    \"job_name\": \"sm-tf-dcgan-2020-06-15-01-41-49-775\",\n",
      "    \"log_level\": 20,\n",
      "    \"master_hostname\": \"algo-1\",\n",
      "    \"model_dir\": \"/opt/ml/model\",\n",
      "    \"module_dir\": \"s3://sagemaker-us-east-1-308961792850/sm-tf-dcgan-2020-06-15-01-41-49-775/source/sourcedir.tar.gz\",\n",
      "    \"module_name\": \"dcgan\",\n",
      "    \"network_interface_name\": \"eth0\",\n",
      "    \"num_cpus\": 8,\n",
      "    \"num_gpus\": 1,\n",
      "    \"output_data_dir\": \"/opt/ml/output/data\",\n",
      "    \"output_dir\": \"/opt/ml/output\",\n",
      "    \"output_intermediate_dir\": \"/opt/ml/output/intermediate\",\n",
      "    \"resource_config\": {\n",
      "        \"current_host\": \"algo-1\",\n",
      "        \"hosts\": [\n",
      "            \"algo-1\"\n",
      "        ],\n",
      "        \"network_interface_name\": \"eth0\"\n",
      "    },\n",
      "    \"user_entry_point\": \"dcgan.py\"\u001b[0m\n",
      "\u001b[34m}\n",
      "\u001b[0m\n",
      "\u001b[34mEnvironment variables:\n",
      "\u001b[0m\n",
      "\u001b[34mSM_HOSTS=[\"algo-1\"]\u001b[0m\n",
      "\u001b[34mSM_NETWORK_INTERFACE_NAME=eth0\u001b[0m\n",
      "\u001b[34mSM_HPS={\"batch_size\":64,\"beta_1\":0.5,\"epochs\":10000,\"gen_image_path\":\"/opt/ml/output/data\",\"log_interval\":100,\"lr\":0.0002,\"model_dir\":\"/opt/ml/model\",\"model_path\":\"/opt/ml/model\",\"save_interval\":100}\u001b[0m\n",
      "\u001b[34mSM_USER_ENTRY_POINT=dcgan.py\u001b[0m\n",
      "\u001b[34mSM_FRAMEWORK_PARAMS={}\u001b[0m\n",
      "\u001b[34mSM_RESOURCE_CONFIG={\"current_host\":\"algo-1\",\"hosts\":[\"algo-1\"],\"network_interface_name\":\"eth0\"}\u001b[0m\n",
      "\u001b[34mSM_INPUT_DATA_CONFIG={}\u001b[0m\n",
      "\u001b[34mSM_OUTPUT_DATA_DIR=/opt/ml/output/data\u001b[0m\n",
      "\u001b[34mSM_CHANNELS=[]\u001b[0m\n",
      "\u001b[34mSM_CURRENT_HOST=algo-1\u001b[0m\n",
      "\u001b[34mSM_MODULE_NAME=dcgan\u001b[0m\n",
      "\u001b[34mSM_LOG_LEVEL=20\u001b[0m\n",
      "\u001b[34mSM_FRAMEWORK_MODULE=sagemaker_tensorflow_container.training:main\u001b[0m\n",
      "\u001b[34mSM_INPUT_DIR=/opt/ml/input\u001b[0m\n",
      "\u001b[34mSM_INPUT_CONFIG_DIR=/opt/ml/input/config\u001b[0m\n",
      "\u001b[34mSM_OUTPUT_DIR=/opt/ml/output\u001b[0m\n",
      "\u001b[34mSM_NUM_CPUS=8\u001b[0m\n",
      "\u001b[34mSM_NUM_GPUS=1\u001b[0m\n",
      "\u001b[34mSM_MODEL_DIR=/opt/ml/model\u001b[0m\n",
      "\u001b[34mSM_MODULE_DIR=s3://sagemaker-us-east-1-308961792850/sm-tf-dcgan-2020-06-15-01-41-49-775/source/sourcedir.tar.gz\u001b[0m\n",
      "\u001b[34mSM_TRAINING_ENV={\"additional_framework_parameters\":{},\"channel_input_dirs\":{},\"current_host\":\"algo-1\",\"framework_module\":\"sagemaker_tensorflow_container.training:main\",\"hosts\":[\"algo-1\"],\"hyperparameters\":{\"batch_size\":64,\"beta_1\":0.5,\"epochs\":10000,\"gen_image_path\":\"/opt/ml/output/data\",\"log_interval\":100,\"lr\":0.0002,\"model_dir\":\"/opt/ml/model\",\"model_path\":\"/opt/ml/model\",\"save_interval\":100},\"input_config_dir\":\"/opt/ml/input/config\",\"input_data_config\":{},\"input_dir\":\"/opt/ml/input\",\"is_master\":true,\"job_name\":\"sm-tf-dcgan-2020-06-15-01-41-49-775\",\"log_level\":20,\"master_hostname\":\"algo-1\",\"model_dir\":\"/opt/ml/model\",\"module_dir\":\"s3://sagemaker-us-east-1-308961792850/sm-tf-dcgan-2020-06-15-01-41-49-775/source/sourcedir.tar.gz\",\"module_name\":\"dcgan\",\"network_interface_name\":\"eth0\",\"num_cpus\":8,\"num_gpus\":1,\"output_data_dir\":\"/opt/ml/output/data\",\"output_dir\":\"/opt/ml/output\",\"output_intermediate_dir\":\"/opt/ml/output/intermediate\",\"resource_config\":{\"current_host\":\"algo-1\",\"hosts\":[\"algo-1\"],\"network_interface_name\":\"eth0\"},\"user_entry_point\":\"dcgan.py\"}\u001b[0m\n",
      "\u001b[34mSM_USER_ARGS=[\"--batch_size\",\"64\",\"--beta_1\",\"0.5\",\"--epochs\",\"10000\",\"--gen_image_path\",\"/opt/ml/output/data\",\"--log_interval\",\"100\",\"--lr\",\"0.0002\",\"--model_dir\",\"/opt/ml/model\",\"--model_path\",\"/opt/ml/model\",\"--save_interval\",\"100\"]\u001b[0m\n",
      "\u001b[34mSM_OUTPUT_INTERMEDIATE_DIR=/opt/ml/output/intermediate\u001b[0m\n",
      "\u001b[34mSM_HP_BETA_1=0.5\u001b[0m\n",
      "\u001b[34mSM_HP_BATCH_SIZE=64\u001b[0m\n",
      "\u001b[34mSM_HP_LR=0.0002\u001b[0m\n",
      "\u001b[34mSM_HP_LOG_INTERVAL=100\u001b[0m\n",
      "\u001b[34mSM_HP_MODEL_PATH=/opt/ml/model\u001b[0m\n",
      "\u001b[34mSM_HP_SAVE_INTERVAL=100\u001b[0m\n",
      "\u001b[34mSM_HP_GEN_IMAGE_PATH=/opt/ml/output/data\u001b[0m\n",
      "\u001b[34mSM_HP_MODEL_DIR=/opt/ml/model\u001b[0m\n",
      "\u001b[34mSM_HP_EPOCHS=10000\u001b[0m\n",
      "\u001b[34mPYTHONPATH=/opt/ml/code:/usr/local/bin:/usr/local/lib/python36.zip:/usr/local/lib/python3.6:/usr/local/lib/python3.6/lib-dynload:/usr/local/lib/python3.6/site-packages\n",
      "\u001b[0m\n",
      "\u001b[34mInvoking script with the following command:\n",
      "\u001b[0m\n",
      "\u001b[34m/usr/local/bin/python3.6 dcgan.py --batch_size 64 --beta_1 0.5 --epochs 10000 --gen_image_path /opt/ml/output/data --log_interval 100 --lr 0.0002 --model_dir /opt/ml/model --model_path /opt/ml/model --save_interval 100\n",
      "\n",
      "\u001b[0m\n",
      "\u001b[34mUsing TensorFlow backend.\u001b[0m\n",
      "\u001b[34mCollecting matplotlib==3.1.1 (from -r requirements.txt (line 2))\n",
      "  Downloading https://files.pythonhosted.org/packages/57/4f/dd381ecf6c6ab9bcdaa8ea912e866dedc6e696756156d8ecc087e20817e2/matplotlib-3.1.1-cp36-cp36m-manylinux1_x86_64.whl (13.1MB)\u001b[0m\n",
      "\u001b[34mCollecting kiwisolver>=1.0.1 (from matplotlib==3.1.1->-r requirements.txt (line 2))\n",
      "  Downloading https://files.pythonhosted.org/packages/ae/23/147de658aabbf968324551ea22c0c13a00284c4ef49a77002e91f79657b7/kiwisolver-1.2.0-cp36-cp36m-manylinux1_x86_64.whl (88kB)\u001b[0m\n",
      "\u001b[34mRequirement already satisfied: numpy>=1.11 in /usr/local/lib/python3.6/site-packages (from matplotlib==3.1.1->-r requirements.txt (line 2)) (1.16.4)\u001b[0m\n",
      "\u001b[34mRequirement already satisfied: python-dateutil>=2.1 in /usr/local/lib/python3.6/site-packages (from matplotlib==3.1.1->-r requirements.txt (line 2)) (2.8.0)\u001b[0m\n",
      "\u001b[34mCollecting cycler>=0.10 (from matplotlib==3.1.1->-r requirements.txt (line 2))\n",
      "  Downloading https://files.pythonhosted.org/packages/f7/d2/e07d3ebb2bd7af696440ce7e754c59dd546ffe1bbe732c8ab68b9c834e61/cycler-0.10.0-py2.py3-none-any.whl\u001b[0m\n",
      "\u001b[34mCollecting pyparsing!=2.0.4,!=2.1.2,!=2.1.6,>=2.0.1 (from matplotlib==3.1.1->-r requirements.txt (line 2))\n",
      "  Downloading https://files.pythonhosted.org/packages/8a/bb/488841f56197b13700afd5658fc279a2025a39e22449b7cf29864669b15d/pyparsing-2.4.7-py2.py3-none-any.whl (67kB)\u001b[0m\n",
      "\u001b[34mRequirement already satisfied: six>=1.5 in /usr/local/lib/python3.6/site-packages (from python-dateutil>=2.1->matplotlib==3.1.1->-r requirements.txt (line 2)) (1.12.0)\u001b[0m\n",
      "\u001b[34mInstalling collected packages: kiwisolver, cycler, pyparsing, matplotlib\u001b[0m\n",
      "\u001b[34mSuccessfully installed cycler-0.10.0 kiwisolver-1.2.0 matplotlib-3.1.1 pyparsing-2.4.7\u001b[0m\n",
      "\u001b[34mWARNING: You are using pip version 19.1.1, however version 20.1.1 is available.\u001b[0m\n",
      "\u001b[34mYou should consider upgrading via the 'pip install --upgrade pip' command.\u001b[0m\n",
      "\u001b[34m== job parameters ======================================\u001b[0m\n",
      "\u001b[34m========================================================\u001b[0m\n",
      "\u001b[34mDownloading data from https://s3.amazonaws.com/img-datasets/mnist.npz\n",
      "\n",
      "    8192/11490434 [..............................] - ETA: 0s\n",
      " 6307840/11490434 [===============>..............] - ETA: 0s\u001b[0m\n",
      "\u001b[34m11493376/11490434 [==============================] - 0s 0us/step\u001b[0m\n",
      "\u001b[34mWARNING:tensorflow:From /usr/local/lib/python3.6/site-packages/tensorflow/python/framework/op_def_library.py:263: colocate_with (from tensorflow.python.framework.ops) is deprecated and will be removed in a future version.\u001b[0m\n",
      "\u001b[34mInstructions for updating:\u001b[0m\n",
      "\u001b[34mColocations handled automatically by placer.\u001b[0m\n",
      "\u001b[34mWARNING:tensorflow:From /usr/local/lib/python3.6/site-packages/keras/backend/tensorflow_backend.py:3445: calling dropout (from tensorflow.python.ops.nn_ops) with keep_prob is deprecated and will be removed in a future version.\u001b[0m\n",
      "\u001b[34mInstructions for updating:\u001b[0m\n",
      "\u001b[34mPlease use `rate` instead of `keep_prob`. Rate should be set to `rate = 1 - keep_prob`.\u001b[0m\n",
      "\n",
      "2020-06-15 01:44:54 Training - Training image download completed. Training in progress.\u001b[34m/usr/local/lib/python3.6/site-packages/keras/engine/training.py:490: UserWarning: Discrepancy between trainable weights and collected trainable weights, did you set `model.trainable` without calling `model.compile` after ?\n",
      "  'Discrepancy between trainable weights and collected trainable'\u001b[0m\n",
      "\u001b[34mWARNING:tensorflow:From /usr/local/lib/python3.6/site-packages/tensorflow/python/ops/math_ops.py:3066: to_int32 (from tensorflow.python.ops.math_ops) is deprecated and will be removed in a future version.\u001b[0m\n",
      "\u001b[34mInstructions for updating:\u001b[0m\n",
      "\u001b[34mUse tf.cast instead.\u001b[0m\n",
      "\u001b[34m    0 [D loss: 1.262353, acc.: 27.34%] [G loss: 0.832025] [d+g: 1.047189] [d+2g: 0.975468]\u001b[0m\n",
      "\u001b[34m  100 [D loss: 0.801891, acc.: 48.44%] [G loss: 1.150092] [d+g: 0.975992] [d+2g: 1.034025]\u001b[0m\n",
      "\u001b[34m  200 [D loss: 0.801250, acc.: 45.31%] [G loss: 0.989151] [d+g: 0.895200] [d+2g: 0.926517]\u001b[0m\n",
      "\u001b[34m  300 [D loss: 0.839892, acc.: 45.31%] [G loss: 0.978004] [d+g: 0.908948] [d+2g: 0.931966]\u001b[0m\n",
      "\u001b[34m  400 [D loss: 0.737316, acc.: 50.00%] [G loss: 0.920232] [d+g: 0.828774] [d+2g: 0.859260]\u001b[0m\n",
      "\u001b[34m  500 [D loss: 0.706383, acc.: 54.69%] [G loss: 0.953328] [d+g: 0.829855] [d+2g: 0.871013]\u001b[0m\n",
      "\u001b[34m  600 [D loss: 0.746670, acc.: 53.12%] [G loss: 1.087194] [d+g: 0.916932] [d+2g: 0.973686]\u001b[0m\n",
      "\u001b[34m  700 [D loss: 0.714535, acc.: 57.03%] [G loss: 0.869593] [d+g: 0.792064] [d+2g: 0.817907]\u001b[0m\n",
      "\u001b[34m  800 [D loss: 0.697588, acc.: 55.47%] [G loss: 0.992495] [d+g: 0.845041] [d+2g: 0.894192]\u001b[0m\n",
      "\u001b[34m  900 [D loss: 0.749835, acc.: 48.44%] [G loss: 0.832801] [d+g: 0.791318] [d+2g: 0.805146]\u001b[0m\n",
      "\u001b[34m 1000 [D loss: 0.783705, acc.: 42.97%] [G loss: 0.932793] [d+g: 0.858249] [d+2g: 0.883097]\u001b[0m\n",
      "\u001b[34m 1100 [D loss: 0.699927, acc.: 54.69%] [G loss: 1.023834] [d+g: 0.861880] [d+2g: 0.915865]\u001b[0m\n",
      "\u001b[34m 1200 [D loss: 0.688604, acc.: 56.25%] [G loss: 0.912952] [d+g: 0.800778] [d+2g: 0.838169]\u001b[0m\n",
      "\u001b[34m 1300 [D loss: 0.676737, acc.: 57.81%] [G loss: 0.910749] [d+g: 0.793743] [d+2g: 0.832745]\u001b[0m\n",
      "\u001b[34m 1400 [D loss: 0.731315, acc.: 53.91%] [G loss: 0.979693] [d+g: 0.855504] [d+2g: 0.896901]\u001b[0m\n",
      "\u001b[34m 1500 [D loss: 0.703398, acc.: 57.03%] [G loss: 0.975749] [d+g: 0.839574] [d+2g: 0.884965]\u001b[0m\n",
      "\u001b[34m 1600 [D loss: 0.703195, acc.: 53.91%] [G loss: 0.930703] [d+g: 0.816949] [d+2g: 0.854867]\u001b[0m\n",
      "\u001b[34m 1700 [D loss: 0.694644, acc.: 57.81%] [G loss: 1.001507] [d+g: 0.848076] [d+2g: 0.899219]\u001b[0m\n",
      "\u001b[34m 1800 [D loss: 0.661855, acc.: 60.94%] [G loss: 0.939278] [d+g: 0.800566] [d+2g: 0.846803]\u001b[0m\n",
      "\u001b[34m 1900 [D loss: 0.623248, acc.: 63.28%] [G loss: 1.044984] [d+g: 0.834116] [d+2g: 0.904406]\u001b[0m\n",
      "\u001b[34m 2000 [D loss: 0.723145, acc.: 57.03%] [G loss: 1.001411] [d+g: 0.862278] [d+2g: 0.908655]\u001b[0m\n",
      "\u001b[34m 2100 [D loss: 0.676724, acc.: 56.25%] [G loss: 0.960984] [d+g: 0.818854] [d+2g: 0.866230]\u001b[0m\n",
      "\u001b[34m 2200 [D loss: 0.727775, acc.: 55.47%] [G loss: 0.956259] [d+g: 0.842017] [d+2g: 0.880098]\u001b[0m\n",
      "\u001b[34m 2300 [D loss: 0.680598, acc.: 58.59%] [G loss: 0.988674] [d+g: 0.834636] [d+2g: 0.885982]\u001b[0m\n",
      "\u001b[34m 2400 [D loss: 0.724501, acc.: 50.78%] [G loss: 0.974629] [d+g: 0.849565] [d+2g: 0.891253]\u001b[0m\n",
      "\u001b[34m 2500 [D loss: 0.662791, acc.: 57.03%] [G loss: 0.932473] [d+g: 0.797632] [d+2g: 0.842579]\u001b[0m\n",
      "\u001b[34m 2600 [D loss: 0.628036, acc.: 64.84%] [G loss: 0.924411] [d+g: 0.776224] [d+2g: 0.825620]\u001b[0m\n",
      "\u001b[34m 2700 [D loss: 0.703707, acc.: 57.03%] [G loss: 0.898972] [d+g: 0.801340] [d+2g: 0.833884]\u001b[0m\n",
      "\u001b[34m 2800 [D loss: 0.726644, acc.: 50.00%] [G loss: 0.925565] [d+g: 0.826105] [d+2g: 0.859258]\u001b[0m\n",
      "\u001b[34m 2900 [D loss: 0.669685, acc.: 60.16%] [G loss: 0.939538] [d+g: 0.804612] [d+2g: 0.849587]\u001b[0m\n",
      "\u001b[34m 3000 [D loss: 0.711376, acc.: 53.91%] [G loss: 0.881547] [d+g: 0.796462] [d+2g: 0.824824]\u001b[0m\n",
      "\u001b[34m 3100 [D loss: 0.639833, acc.: 62.50%] [G loss: 0.984887] [d+g: 0.812360] [d+2g: 0.869869]\u001b[0m\n",
      "\u001b[34m 3200 [D loss: 0.667432, acc.: 62.50%] [G loss: 0.856041] [d+g: 0.761736] [d+2g: 0.793171]\u001b[0m\n",
      "\u001b[34m 3300 [D loss: 0.696341, acc.: 59.38%] [G loss: 0.867321] [d+g: 0.781831] [d+2g: 0.810327]\u001b[0m\n",
      "\u001b[34m 3400 [D loss: 0.692732, acc.: 55.47%] [G loss: 0.936667] [d+g: 0.814699] [d+2g: 0.855355]\u001b[0m\n",
      "\u001b[34m 3500 [D loss: 0.709661, acc.: 53.91%] [G loss: 0.947907] [d+g: 0.828784] [d+2g: 0.868491]\u001b[0m\n",
      "\u001b[34m 3600 [D loss: 0.655353, acc.: 61.72%] [G loss: 0.897874] [d+g: 0.776614] [d+2g: 0.817034]\u001b[0m\n",
      "\u001b[34m 3700 [D loss: 0.629651, acc.: 65.62%] [G loss: 0.955853] [d+g: 0.792752] [d+2g: 0.847119]\u001b[0m\n",
      "\u001b[34m 3800 [D loss: 0.582039, acc.: 70.31%] [G loss: 1.089819] [d+g: 0.835929] [d+2g: 0.920559]\u001b[0m\n",
      "\u001b[34m 3900 [D loss: 0.698688, acc.: 57.03%] [G loss: 0.927016] [d+g: 0.812852] [d+2g: 0.850907]\u001b[0m\n",
      "\u001b[34m 4000 [D loss: 0.702105, acc.: 54.69%] [G loss: 0.890706] [d+g: 0.796406] [d+2g: 0.827839]\u001b[0m\n",
      "\u001b[34m 4100 [D loss: 0.618051, acc.: 67.19%] [G loss: 0.908437] [d+g: 0.763244] [d+2g: 0.811642]\u001b[0m\n",
      "\u001b[34m 4200 [D loss: 0.694500, acc.: 57.03%] [G loss: 0.926747] [d+g: 0.810623] [d+2g: 0.849331]\u001b[0m\n",
      "\u001b[34m 4300 [D loss: 0.695884, acc.: 53.12%] [G loss: 0.887488] [d+g: 0.791686] [d+2g: 0.823620]\u001b[0m\n",
      "\u001b[34m 4400 [D loss: 0.692570, acc.: 59.38%] [G loss: 0.961524] [d+g: 0.827047] [d+2g: 0.871873]\u001b[0m\n",
      "\u001b[34m 4500 [D loss: 0.672195, acc.: 57.81%] [G loss: 0.981511] [d+g: 0.826853] [d+2g: 0.878406]\u001b[0m\n",
      "\u001b[34m 4600 [D loss: 0.660687, acc.: 60.16%] [G loss: 0.797438] [d+g: 0.729062] [d+2g: 0.751854]\u001b[0m\n",
      "\u001b[34m 4700 [D loss: 0.666491, acc.: 51.56%] [G loss: 0.870003] [d+g: 0.768247] [d+2g: 0.802166]\u001b[0m\n",
      "\u001b[34m 4800 [D loss: 0.685363, acc.: 58.59%] [G loss: 0.894306] [d+g: 0.789834] [d+2g: 0.824658]\u001b[0m\n",
      "\u001b[34m 4900 [D loss: 0.660844, acc.: 57.03%] [G loss: 0.884241] [d+g: 0.772543] [d+2g: 0.809776]\u001b[0m\n",
      "\u001b[34m 5000 [D loss: 0.754056, acc.: 50.00%] [G loss: 0.877956] [d+g: 0.816006] [d+2g: 0.836656]\u001b[0m\n",
      "\u001b[34m 5100 [D loss: 0.678586, acc.: 57.81%] [G loss: 0.805373] [d+g: 0.741979] [d+2g: 0.763111]\u001b[0m\n",
      "\u001b[34m 5200 [D loss: 0.672206, acc.: 59.38%] [G loss: 0.839537] [d+g: 0.755871] [d+2g: 0.783760]\u001b[0m\n",
      "\u001b[34m 5300 [D loss: 0.676837, acc.: 57.81%] [G loss: 0.929093] [d+g: 0.802965] [d+2g: 0.845008]\u001b[0m\n",
      "\u001b[34m 5400 [D loss: 0.707454, acc.: 58.59%] [G loss: 0.862347] [d+g: 0.784901] [d+2g: 0.810716]\u001b[0m\n",
      "\u001b[34m 5500 [D loss: 0.630635, acc.: 67.19%] [G loss: 0.968587] [d+g: 0.799611] [d+2g: 0.855937]\u001b[0m\n",
      "\u001b[34m 5600 [D loss: 0.699789, acc.: 56.25%] [G loss: 0.918543] [d+g: 0.809166] [d+2g: 0.845625]\u001b[0m\n",
      "\u001b[34m 5700 [D loss: 0.704116, acc.: 54.69%] [G loss: 0.874856] [d+g: 0.789486] [d+2g: 0.817942]\u001b[0m\n",
      "\u001b[34m 5800 [D loss: 0.665182, acc.: 61.72%] [G loss: 0.864054] [d+g: 0.764618] [d+2g: 0.797763]\u001b[0m\n",
      "\u001b[34m 5900 [D loss: 0.585746, acc.: 75.00%] [G loss: 0.950988] [d+g: 0.768367] [d+2g: 0.829241]\u001b[0m\n",
      "\u001b[34m 6000 [D loss: 0.688859, acc.: 55.47%] [G loss: 0.853870] [d+g: 0.771364] [d+2g: 0.798866]\u001b[0m\n",
      "\u001b[34m 6100 [D loss: 0.650363, acc.: 62.50%] [G loss: 0.823448] [d+g: 0.736905] [d+2g: 0.765753]\u001b[0m\n",
      "\u001b[34m 6200 [D loss: 0.695210, acc.: 53.91%] [G loss: 0.855808] [d+g: 0.775509] [d+2g: 0.802275]\u001b[0m\n",
      "\u001b[34m 6300 [D loss: 0.764248, acc.: 46.09%] [G loss: 0.889905] [d+g: 0.827076] [d+2g: 0.848019]\u001b[0m\n",
      "\u001b[34m 6400 [D loss: 0.632951, acc.: 62.50%] [G loss: 0.891929] [d+g: 0.762440] [d+2g: 0.805603]\u001b[0m\n",
      "\u001b[34m 6500 [D loss: 0.634312, acc.: 66.41%] [G loss: 0.870396] [d+g: 0.752354] [d+2g: 0.791701]\u001b[0m\n",
      "\u001b[34m 6600 [D loss: 0.709662, acc.: 53.91%] [G loss: 0.925649] [d+g: 0.817656] [d+2g: 0.853653]\u001b[0m\n",
      "\u001b[34m 6700 [D loss: 0.690676, acc.: 55.47%] [G loss: 0.948528] [d+g: 0.819602] [d+2g: 0.862577]\u001b[0m\n",
      "\u001b[34m 6800 [D loss: 0.758110, acc.: 48.44%] [G loss: 0.874030] [d+g: 0.816070] [d+2g: 0.835390]\u001b[0m\n",
      "\u001b[34m 6900 [D loss: 0.684029, acc.: 56.25%] [G loss: 0.984370] [d+g: 0.834200] [d+2g: 0.884256]\u001b[0m\n",
      "\u001b[34m 7000 [D loss: 0.718907, acc.: 51.56%] [G loss: 0.850310] [d+g: 0.784609] [d+2g: 0.806509]\u001b[0m\n",
      "\u001b[34m 7100 [D loss: 0.666829, acc.: 56.25%] [G loss: 0.881695] [d+g: 0.774262] [d+2g: 0.810073]\u001b[0m\n",
      "\u001b[34m 7200 [D loss: 0.701460, acc.: 49.22%] [G loss: 0.939563] [d+g: 0.820511] [d+2g: 0.860195]\u001b[0m\n",
      "\u001b[34m 7300 [D loss: 0.686661, acc.: 57.81%] [G loss: 0.883992] [d+g: 0.785326] [d+2g: 0.818215]\u001b[0m\n",
      "\u001b[34m 7400 [D loss: 0.734756, acc.: 50.00%] [G loss: 0.859337] [d+g: 0.797047] [d+2g: 0.817810]\u001b[0m\n",
      "\u001b[34m 7500 [D loss: 0.705252, acc.: 56.25%] [G loss: 0.902006] [d+g: 0.803629] [d+2g: 0.836421]\u001b[0m\n",
      "\u001b[34m 7600 [D loss: 0.662367, acc.: 60.94%] [G loss: 0.842177] [d+g: 0.752272] [d+2g: 0.782240]\u001b[0m\n",
      "\u001b[34m 7700 [D loss: 0.705457, acc.: 55.47%] [G loss: 0.930208] [d+g: 0.817833] [d+2g: 0.855291]\u001b[0m\n",
      "\u001b[34m 7800 [D loss: 0.640145, acc.: 62.50%] [G loss: 0.883714] [d+g: 0.761929] [d+2g: 0.802524]\u001b[0m\n",
      "\u001b[34m 7900 [D loss: 0.620591, acc.: 63.28%] [G loss: 0.902446] [d+g: 0.761518] [d+2g: 0.808494]\u001b[0m\n",
      "\u001b[34m 8000 [D loss: 0.658337, acc.: 60.94%] [G loss: 0.927438] [d+g: 0.792888] [d+2g: 0.837738]\u001b[0m\n",
      "\u001b[34m 8100 [D loss: 0.685758, acc.: 53.12%] [G loss: 1.029117] [d+g: 0.857438] [d+2g: 0.914664]\u001b[0m\n",
      "\u001b[34m 8200 [D loss: 0.632941, acc.: 64.06%] [G loss: 0.987034] [d+g: 0.809987] [d+2g: 0.869003]\u001b[0m\n",
      "\u001b[34m 8300 [D loss: 0.633177, acc.: 61.72%] [G loss: 1.068785] [d+g: 0.850981] [d+2g: 0.923583]\u001b[0m\n",
      "\u001b[34m 8400 [D loss: 0.616168, acc.: 67.97%] [G loss: 1.023528] [d+g: 0.819848] [d+2g: 0.887741]\u001b[0m\n",
      "\u001b[34m 8500 [D loss: 0.638229, acc.: 63.28%] [G loss: 0.991838] [d+g: 0.815033] [d+2g: 0.873968]\u001b[0m\n",
      "\u001b[34m 8600 [D loss: 0.691828, acc.: 57.03%] [G loss: 0.889001] [d+g: 0.790415] [d+2g: 0.823277]\u001b[0m\n",
      "\u001b[34m 8700 [D loss: 0.601621, acc.: 64.84%] [G loss: 0.989335] [d+g: 0.795478] [d+2g: 0.860097]\u001b[0m\n",
      "\u001b[34m 8800 [D loss: 0.584251, acc.: 67.97%] [G loss: 1.043303] [d+g: 0.813777] [d+2g: 0.890285]\u001b[0m\n",
      "\u001b[34m 8900 [D loss: 0.663284, acc.: 60.16%] [G loss: 0.943841] [d+g: 0.803563] [d+2g: 0.850322]\u001b[0m\n",
      "\u001b[34m 9000 [D loss: 0.674711, acc.: 58.59%] [G loss: 0.948323] [d+g: 0.811517] [d+2g: 0.857119]\u001b[0m\n",
      "\u001b[34m 9100 [D loss: 0.598249, acc.: 67.97%] [G loss: 1.006975] [d+g: 0.802612] [d+2g: 0.870733]\u001b[0m\n",
      "\u001b[34m 9200 [D loss: 0.717869, acc.: 53.12%] [G loss: 0.905317] [d+g: 0.811593] [d+2g: 0.842835]\u001b[0m\n",
      "\u001b[34m 9300 [D loss: 0.753675, acc.: 46.88%] [G loss: 0.914466] [d+g: 0.834070] [d+2g: 0.860869]\u001b[0m\n",
      "\u001b[34m 9400 [D loss: 0.588984, acc.: 71.09%] [G loss: 0.957412] [d+g: 0.773198] [d+2g: 0.834603]\u001b[0m\n",
      "\u001b[34m 9500 [D loss: 0.657136, acc.: 57.03%] [G loss: 1.030457] [d+g: 0.843796] [d+2g: 0.906017]\u001b[0m\n",
      "\u001b[34m 9600 [D loss: 0.680501, acc.: 55.47%] [G loss: 0.886053] [d+g: 0.783277] [d+2g: 0.817536]\u001b[0m\n",
      "\u001b[34m 9700 [D loss: 0.639622, acc.: 64.06%] [G loss: 0.920867] [d+g: 0.780244] [d+2g: 0.827118]\u001b[0m\n",
      "\u001b[34m 9800 [D loss: 0.697687, acc.: 58.59%] [G loss: 0.925121] [d+g: 0.811404] [d+2g: 0.849310]\u001b[0m\n",
      "\u001b[34m 9900 [D loss: 0.696551, acc.: 50.00%] [G loss: 1.004639] [d+g: 0.850595] [d+2g: 0.901943]\u001b[0m\n",
      "\u001b[34m2020-06-15 01:49:36,477 sagemaker_tensorflow_container.training WARNING  Your model will NOT be servable with SageMaker TensorFlow Serving container.The model artifact was not saved in the TensorFlow SavedModel directory structure:\u001b[0m\n",
      "\u001b[34mhttps://www.tensorflow.org/guide/saved_model#structure_of_a_savedmodel_directory\u001b[0m\n",
      "\u001b[34m2020-06-15 01:49:36,477 sagemaker-containers INFO     Reporting training SUCCESS\u001b[0m\n",
      "\n",
      "2020-06-15 01:50:03 Uploading - Uploading generated training model\n",
      "2020-06-15 01:50:03 Completed - Training job completed\n",
      "Training seconds: 358\n",
      "Billable seconds: 358\n",
      "CPU times: user 1.27 s, sys: 74.3 ms, total: 1.35 s\n",
      "Wall time: 8min 46s\n"
     ]
    }
   ],
   "source": [
    "%%time\n",
    "estimator.fit()"
   ]
  },
  {
   "cell_type": "markdown",
   "metadata": {},
   "source": [
    "---\n",
    "## 4. 학습결과 확인\n",
    "\n",
    "#### 4-1. Sagemaker Training job outfile 확인\n",
    "학습과정에서 Generator가 저장한 파일을 이용하여 Generator의 성능을 확인합니다. entry_point의 스크립트를 실행할때 생성 이미지의 저장경로 파라미터(`gen_image_path`)를 컨테이너 내부의 /opt/ml/output/data/에 저장하도록 지정하였습다. 그리고 해당 폴더의 파일들은 아래 경로에 `output.tar.gz`으로 export되었을 것입니다."
   ]
  },
  {
   "cell_type": "code",
   "execution_count": 25,
   "metadata": {},
   "outputs": [
    {
     "data": {
      "text/plain": [
       "'s3://sagemaker-us-east-1-308961792850/sm-tf-dcgan-2020-06-15-01-41-49-775'"
      ]
     },
     "execution_count": 25,
     "metadata": {},
     "output_type": "execute_result"
    }
   ],
   "source": [
    "outpath = estimator.output_path + estimator.latest_training_job.job_name\n",
    "outpath"
   ]
  },
  {
   "cell_type": "code",
   "execution_count": 26,
   "metadata": {},
   "outputs": [
    {
     "name": "stdout",
     "output_type": "stream",
     "text": [
      "2020-06-15 01:50:01    4645759 model.tar.gz\n",
      "2020-06-15 01:50:01    2409575 output.tar.gz\n"
     ]
    }
   ],
   "source": [
    "!aws s3 ls {outpath}/output/"
   ]
  },
  {
   "cell_type": "markdown",
   "metadata": {},
   "source": [
    "`output.tar.gz`파일을 로컬로 복사해 온 후 압축을 풉니다. epoch별로 생성한 이미지를 확인할 수 있습니다. 클라우드에서 학습 실행시 `save_interval`을 100으로 지정하였으므로 100 epoch마다 파일이 생성되었을 것입니다."
   ]
  },
  {
   "cell_type": "code",
   "execution_count": 27,
   "metadata": {},
   "outputs": [
    {
     "name": "stdout",
     "output_type": "stream",
     "text": [
      "download: s3://sagemaker-us-east-1-308961792850/sm-tf-dcgan-2020-06-15-01-41-49-775/output/output.tar.gz to model_out/output.tar.gz\n",
      "mnist_5500.png\n",
      "mnist_1900.png\n",
      "mnist_9700.png\n",
      "mnist_100.png\n",
      "mnist_6300.png\n",
      "mnist_6200.png\n",
      "mnist_2600.png\n",
      "mnist_3900.png\n",
      "mnist_3100.png\n",
      "mnist_2100.png\n",
      "mnist_7100.png\n",
      "g_losses.txt\n",
      "mnist_2200.png\n",
      "mnist_1400.png\n",
      "mnist_7600.png\n",
      "mnist_6100.png\n",
      "mnist_6900.png\n",
      "mnist_500.png\n",
      "mnist_7400.png\n",
      "mnist_5400.png\n",
      "mnist_8200.png\n",
      "mnist_2300.png\n",
      "mnist_6400.png\n",
      "mnist_2000.png\n",
      "mnist_4300.png\n",
      "mnist_7200.png\n",
      "mnist_900.png\n",
      "mnist_6800.png\n",
      "mnist_7800.png\n",
      "mnist_3800.png\n",
      "mnist_8500.png\n",
      "mnist_300.png\n",
      "mnist_6500.png\n",
      "mnist_8800.png\n",
      "mnist_6700.png\n",
      "mnist_4900.png\n",
      "mnist_4800.png\n",
      "mnist_1700.png\n",
      "mnist_3400.png\n",
      "mnist_3500.png\n",
      "mnist_9000.png\n",
      "mnist_4100.png\n",
      "mnist_3600.png\n",
      "mnist_9400.png\n",
      "mnist_5700.png\n",
      "mnist_3300.png\n",
      "mnist_8600.png\n",
      "mnist_2800.png\n",
      "mnist_8900.png\n",
      "mnist_1200.png\n",
      "mnist_7300.png\n",
      "mnist_7000.png\n",
      "mnist_8000.png\n",
      "mnist_3200.png\n",
      "mnist_4600.png\n",
      "mnist_600.png\n",
      "mnist_3700.png\n",
      "mnist_4200.png\n",
      "mnist_9300.png\n",
      "mnist_1100.png\n",
      "mnist_9900.png\n",
      "mnist_9500.png\n",
      "mnist_2700.png\n",
      "mnist_1300.png\n",
      "mnist_400.png\n",
      "mnist_5800.png\n",
      "mnist_8700.png\n",
      "mnist_8300.png\n",
      "mnist_9600.png\n",
      "mnist_4400.png\n",
      "mnist_1500.png\n",
      "mnist_800.png\n",
      "mnist_9800.png\n",
      "mnist_5600.png\n",
      "mnist_3000.png\n",
      "mnist_6000.png\n",
      "mnist_4000.png\n",
      "mnist_1000.png\n",
      "mnist_2400.png\n",
      "mnist_2900.png\n",
      "mnist_4700.png\n",
      "mnist_200.png\n",
      "mnist_1600.png\n",
      "mnist_700.png\n",
      "mnist_1800.png\n",
      "mnist_6600.png\n",
      "mnist_8100.png\n",
      "mnist_5900.png\n",
      "mnist_0.png\n",
      "mnist_7500.png\n",
      "mnist_2500.png\n",
      "mnist_5100.png\n",
      "mnist_7700.png\n",
      "mnist_5200.png\n",
      "mnist_4500.png\n",
      "mnist_5300.png\n",
      "mnist_9100.png\n",
      "mnist_7900.png\n",
      "mnist_8400.png\n",
      "mnist_9200.png\n",
      "mnist_5000.png\n"
     ]
    }
   ],
   "source": [
    "!aws s3 cp {outpath}/output/output.tar.gz model_out/output.tar.gz\n",
    "!tar -xvf model_out/output.tar.gz -C model_out"
   ]
  },
  {
   "cell_type": "markdown",
   "metadata": {},
   "source": [
    "#### 4-2. 생성 이미지 확인\n",
    "\n",
    "생성 이미지를 확인합니다. MNIST 데이터셋과 유사한 이미지를 생성하도록 학습되었습니다."
   ]
  },
  {
   "cell_type": "code",
   "execution_count": 28,
   "metadata": {},
   "outputs": [],
   "source": [
    "import matplotlib.image as mpimg"
   ]
  },
  {
   "cell_type": "code",
   "execution_count": 29,
   "metadata": {},
   "outputs": [
    {
     "data": {
      "image/png": "[encoded data removed]",
      "text/plain": [
       "<Figure size 1152x720 with 12 Axes>"
      ]
     },
     "metadata": {},
     "output_type": "display_data"
    }
   ],
   "source": [
    "plt.figure(figsize=(16,10))\n",
    "for i,epoch in zip(range(12), range(0,10000,900)):\n",
    "    img = mpimg.imread('model_out/mnist_' + str(epoch) +'.png')\n",
    "    plt.subplot(3,4,i+1)\n",
    "    plt.title('epoch = ' + str(epoch))\n",
    "    plt.imshow(img)\n",
    "plt.show()"
   ]
  },
  {
   "cell_type": "markdown",
   "metadata": {},
   "source": [
    "#### 4-3. 모델 Weight 추출\n",
    "\n",
    "학습된 DCGAN Weight 파일은 동일 경로에 model.tar.gz파일로 export 되었습니다. 해당 파일은 다음의 이상감지 단계에서 활용할 것입니다. 학습된 Weight파일을 로컬로 가져옵니다. "
   ]
  },
  {
   "cell_type": "code",
   "execution_count": 30,
   "metadata": {},
   "outputs": [
    {
     "name": "stdout",
     "output_type": "stream",
     "text": [
      "2020-06-15 01:50:01    4645759 model.tar.gz\n",
      "2020-06-15 01:50:01    2409575 output.tar.gz\n"
     ]
    }
   ],
   "source": [
    "!aws s3 ls {outpath}/output/"
   ]
  },
  {
   "cell_type": "code",
   "execution_count": 31,
   "metadata": {},
   "outputs": [
    {
     "name": "stdout",
     "output_type": "stream",
     "text": [
      "download: s3://sagemaker-us-east-1-308961792850/sm-tf-dcgan-2020-06-15-01-41-49-775/output/model.tar.gz to model/model.tar.gz\n",
      "g-9999.ckpt\n",
      "d-9999.ckpt\n"
     ]
    }
   ],
   "source": [
    "!aws s3 cp {outpath}/output/model.tar.gz model/model.tar.gz\n",
    "!tar -xvf model/model.tar.gz -C model"
   ]
  },
  {
   "cell_type": "markdown",
   "metadata": {},
   "source": [
    "---\n",
    "# STEP 2. 이상감지\n",
    "---\n",
    "DCGAN 생성모델이 준비되었으므로 이제 이상감지 모델을 구현하는 단계로 넘어가겠습니다.\n",
    "\n",
    "## 5. Anomalous data \n",
    "\n",
    "이상데이터는 EMNIST 데이터셋 중 letters를 사용하겠습니다. EMNIST letters는 숫자가 아닌 문자이미지이며, 28x28의 grayscale의 형식은 MNIST와 동일합니다."
   ]
  },
  {
   "cell_type": "code",
   "execution_count": 32,
   "metadata": {},
   "outputs": [
    {
     "name": "stdout",
     "output_type": "stream",
     "text": [
      "Collecting emnist\n",
      "  Downloading https://files.pythonhosted.org/packages/d1/f4/78b24acbef9e8fe976dda700f16a3606f3b8363b015bc555f8050fbbd8ac/emnist-0.0-py3-none-any.whl\n",
      "Requirement already satisfied: requests in /home/ec2-user/anaconda3/envs/tensorflow_p36/lib/python3.6/site-packages (from emnist) (2.20.0)\n",
      "Collecting tqdm\n",
      "\u001b[?25l  Downloading https://files.pythonhosted.org/packages/f3/76/4697ce203a3d42b2ead61127b35e5fcc26bba9a35c03b32a2bd342a4c869/tqdm-4.46.1-py2.py3-none-any.whl (63kB)\n",
      "\u001b[K     |████████████████████████████████| 71kB 10.5MB/s eta 0:00:01\n",
      "\u001b[?25hRequirement already satisfied: numpy in /home/ec2-user/anaconda3/envs/tensorflow_p36/lib/python3.6/site-packages (from emnist) (1.16.4)\n",
      "Requirement already satisfied: chardet<3.1.0,>=3.0.2 in /home/ec2-user/anaconda3/envs/tensorflow_p36/lib/python3.6/site-packages (from requests->emnist) (3.0.4)\n",
      "Requirement already satisfied: certifi>=2017.4.17 in /home/ec2-user/anaconda3/envs/tensorflow_p36/lib/python3.6/site-packages (from requests->emnist) (2019.11.28)\n",
      "Requirement already satisfied: idna<2.8,>=2.5 in /home/ec2-user/anaconda3/envs/tensorflow_p36/lib/python3.6/site-packages (from requests->emnist) (2.6)\n",
      "Requirement already satisfied: urllib3<1.25,>=1.21.1 in /home/ec2-user/anaconda3/envs/tensorflow_p36/lib/python3.6/site-packages (from requests->emnist) (1.23)\n",
      "Installing collected packages: tqdm, emnist\n",
      "Successfully installed emnist-0.0 tqdm-4.46.1\n",
      "\u001b[33mWARNING: You are using pip version 19.3.1; however, version 20.1.1 is available.\n",
      "You should consider upgrading via the 'pip install --upgrade pip' command.\u001b[0m\n"
     ]
    }
   ],
   "source": [
    "!pip install emnist"
   ]
  },
  {
   "cell_type": "code",
   "execution_count": 33,
   "metadata": {},
   "outputs": [
    {
     "name": "stderr",
     "output_type": "stream",
     "text": [
      "Downloading emnist.zip: 536MB [00:04, 134MB/s]  \n"
     ]
    },
    {
     "data": {
      "text/plain": [
       "['balanced', 'byclass', 'bymerge', 'digits', 'letters', 'mnist']"
      ]
     },
     "execution_count": 33,
     "metadata": {},
     "output_type": "execute_result"
    }
   ],
   "source": [
    "from emnist import list_datasets\n",
    "list_datasets()"
   ]
  },
  {
   "cell_type": "code",
   "execution_count": 34,
   "metadata": {},
   "outputs": [
    {
     "data": {
      "text/plain": [
       "(20800, 28, 28)"
      ]
     },
     "execution_count": 34,
     "metadata": {},
     "output_type": "execute_result"
    }
   ],
   "source": [
    "from emnist import extract_test_samples\n",
    "images, labels = extract_test_samples('letters')\n",
    "images.shape"
   ]
  },
  {
   "cell_type": "code",
   "execution_count": 35,
   "metadata": {},
   "outputs": [
    {
     "data": {
      "image/png": "[encoded data removed]",
      "text/plain": [
       "<Figure size 1152x432 with 10 Axes>"
      ]
     },
     "metadata": {},
     "output_type": "display_data"
    }
   ],
   "source": [
    "plt.figure(figsize=(16,6))\n",
    "for i in range(10):\n",
    "    plt.subplot(2,5,i+1)\n",
    "    plt.imshow(images[i])\n",
    "plt.show()"
   ]
  },
  {
   "cell_type": "markdown",
   "metadata": {},
   "source": [
    "---\n",
    "## 6. AnoGAN 생성\n"
   ]
  },
  {
   "cell_type": "markdown",
   "metadata": {},
   "source": [
    "AnoGAN 네트워크를 생성합니다. AnoGAN 네트워크의 정의와 학습은 다음 단계를 거칩니다.\n",
    "\n",
    "![](images/anogan2.png)\n",
    "\n",
    "- (1) size 100의 임의의 z를 입력받습니다.\n",
    "- (2) 입력된 z는 Dense layer를 지나 generator에 입력하기 위한 latent vector를 생성합니다.\n",
    "- (3) latent vector는 fix된 generator를 거쳐 임의의 이미지를 생성합니다. \n",
    "- (4) 3)의 결과를 입력으로 하여 fix된 Discriminnator를 거쳐 Real/Fake 판단을 위한 feature vector를 생성합니다.\n",
    "- (5) normal/abnormal 판단을 위한 이미지를 이용하여 3), 4)에 대한 Ground truth 값을 생성합니다. (이미지 자체는 3)의 ground truth 역할을 하고, 해당 이미지로부터 Discriminator 연산을 통해 생성한 feature vector는 4)에 대한 ground truth가 됩니다.)\n",
    "- (6) 생성된 (a), (b) 값을 ground truth와 비교하여 2)의 Dense layer를 학습합니다.\n",
    "- (7) 학습과정에서 사용했던 데이터(정상데이터)일 수록 학습이 더 잘 될 것입니다. 이런 원리로 6) training 작업 loss 자체가 abnoaly score 역할을 할 수 있습니다.\n",
    "\n",
    "AnoGAN 생성시 이전 단계에서 학습된 Generator와 Discriminator 네트워크와 Weight를 로드하여 사용합니다. 아래에서 호출하고 있는 build_discriminator()와 build_generator()는 앞서 DCGAN학습단계에서 생성한 동일한 함수입니다."
   ]
  },
  {
   "cell_type": "markdown",
   "metadata": {},
   "source": [
    "#### Discriminator로부터 feature를 도출하는 함수"
   ]
  },
  {
   "cell_type": "code",
   "execution_count": 36,
   "metadata": {},
   "outputs": [],
   "source": [
    "def feature_extractor(img_shape=(28,28,1)):\n",
    "    d = build_discriminator(img_shape)\n",
    "    d.load_weights('model/d-9999.ckpt') \n",
    "    intermidiate_model = Model(inputs=d.layers[0].input, outputs=d.layers[-6].output)\n",
    "    intermidiate_model.compile(loss='binary_crossentropy', optimizer='adam')\n",
    "    return intermidiate_model"
   ]
  },
  {
   "cell_type": "markdown",
   "metadata": {},
   "source": [
    "#### AnnoGAN Netowrk\n",
    "임의의 z로부터 latent vector를 생성하고 Generator와 앞서 feature_extractor를 호출합니다."
   ]
  },
  {
   "cell_type": "code",
   "execution_count": 37,
   "metadata": {},
   "outputs": [],
   "source": [
    "def gen_anogan(loss, latent_dim=100, channels=1, img_shape=(28,28,1)):\n",
    "    g = build_generator(latent_dim, channels)\n",
    "    g.load_weights('model/g-9999.ckpt')\n",
    "    g.trainable = False\n",
    "    intermidiate_model = feature_extractor(img_shape)\n",
    "    intermidiate_model.trainable = False\n",
    "\n",
    "    z = Input(shape=(100,))\n",
    "    gInput = Dense((100))(z)\n",
    "    G_out = g(gInput)\n",
    "    D_out = intermidiate_model(G_out)    \n",
    "    model = Model(inputs=z, outputs=[G_out, D_out])\n",
    "    model.compile(loss=sum_of_residual, loss_weights= [0.9, 0.1], optimizer='adam')\n",
    "    \n",
    "    return model"
   ]
  },
  {
   "cell_type": "code",
   "execution_count": 38,
   "metadata": {},
   "outputs": [],
   "source": [
    "def sum_of_residual(y_true, y_pred):\n",
    "    return tf.reduce_sum(abs(y_true - y_pred))"
   ]
  },
  {
   "cell_type": "code",
   "execution_count": 39,
   "metadata": {},
   "outputs": [
    {
     "name": "stdout",
     "output_type": "stream",
     "text": [
      "_________________________________________________________________\n",
      "Layer (type)                 Output Shape              Param #   \n",
      "=================================================================\n",
      "input_3 (InputLayer)         (None, 100)               0         \n",
      "_________________________________________________________________\n",
      "dense_9 (Dense)              (None, 100)               10100     \n",
      "_________________________________________________________________\n",
      "sequential_7 (Sequential)    (None, 28, 28, 1)         856193    \n",
      "_________________________________________________________________\n",
      "model_3 (Model)              (None, 4, 4, 256)         388608    \n",
      "=================================================================\n",
      "Total params: 1,254,901\n",
      "Trainable params: 10,100\n",
      "Non-trainable params: 1,244,801\n",
      "_________________________________________________________________\n"
     ]
    }
   ],
   "source": [
    "model = gen_anogan(loss=sum_of_residual)\n",
    "model.summary()"
   ]
  },
  {
   "cell_type": "markdown",
   "metadata": {},
   "source": [
    "## 7. 정상데이터 테스트"
   ]
  },
  {
   "cell_type": "markdown",
   "metadata": {},
   "source": [
    "아래 데이터를 정상 이미지로 하여 테스트를 진행합니다."
   ]
  },
  {
   "cell_type": "code",
   "execution_count": 70,
   "metadata": {},
   "outputs": [
    {
     "data": {
      "text/plain": [
       "<matplotlib.image.AxesImage at 0x7fdf4cbef128>"
      ]
     },
     "execution_count": 70,
     "metadata": {},
     "output_type": "execute_result"
    },
    {
     "data": {
      "image/png": "[encoded data removed]",
      "text/plain": [
       "<Figure size 288x288 with 1 Axes>"
      ]
     },
     "metadata": {},
     "output_type": "display_data"
    }
   ],
   "source": [
    "nimg = X_train[1].reshape(28,28)/ 127.5 - 1.\n",
    "plt.figure(figsize=(4,4))\n",
    "plt.imshow(nimg)"
   ]
  },
  {
   "cell_type": "code",
   "execution_count": 71,
   "metadata": {},
   "outputs": [
    {
     "name": "stdout",
     "output_type": "stream",
     "text": [
      "CPU times: user 37.3 s, sys: 18.5 s, total: 55.8 s\n",
      "Wall time: 10.3 s\n"
     ]
    }
   ],
   "source": [
    "%%time\n",
    "z = np.random.uniform(0, 1, size=(1, 100))\n",
    "intermidiate_model = feature_extractor(img_shape=(28,28,1))\n",
    "\n",
    "# ground truth\n",
    "x = nimg.reshape(1,28,28,1)\n",
    "d_x = intermidiate_model.predict(x)\n",
    "\n",
    "# ground truth를 예측하는 z 학습\n",
    "loss = model.fit(z, [x, d_x], epochs=500, verbose=0)"
   ]
  },
  {
   "cell_type": "markdown",
   "metadata": {},
   "source": [
    "학습을 통해 best latent vector를 추정한 후, 해당 latent vector를 이용하여 생성한 생성 이미지입니다. (500 epoch을 거쳐 원본과 유사한 결과를 생성할 수 있는 z를 찾았고 그 z를 이용하여 생성한 이미지입니다.) 원본 이미지와 유사한 이미지를 생성하고 있습니다."
   ]
  },
  {
   "cell_type": "code",
   "execution_count": 72,
   "metadata": {},
   "outputs": [
    {
     "data": {
      "text/plain": [
       "<matplotlib.image.AxesImage at 0x7fdf4ca53588>"
      ]
     },
     "execution_count": 72,
     "metadata": {},
     "output_type": "execute_result"
    },
    {
     "data": {
      "image/png": "[encoded data removed]",
      "text/plain": [
       "<Figure size 288x288 with 1 Axes>"
      ]
     },
     "metadata": {},
     "output_type": "display_data"
    }
   ],
   "source": [
    "o1, o2 = model.predict(z)\n",
    "plt.figure(figsize=(4,4))\n",
    "plt.imshow(o1.reshape(28,28))"
   ]
  },
  {
   "cell_type": "markdown",
   "metadata": {},
   "source": [
    "loss 값을 확인해봅니다. 정의에 따라 이 loss값을 anomaly score로 바로 활용할 수 있습니다."
   ]
  },
  {
   "cell_type": "code",
   "execution_count": 73,
   "metadata": {},
   "outputs": [
    {
     "data": {
      "text/plain": [
       "437.3695068359375"
      ]
     },
     "execution_count": 73,
     "metadata": {},
     "output_type": "execute_result"
    }
   ],
   "source": [
    "loss.history['loss'][-1]"
   ]
  },
  {
   "cell_type": "markdown",
   "metadata": {},
   "source": [
    "residual을 계산해 봅니다. 다음은 예측된 residual에 대한 시각적 표현입니다."
   ]
  },
  {
   "cell_type": "code",
   "execution_count": 86,
   "metadata": {},
   "outputs": [
    {
     "data": {
      "text/plain": [
       "<matplotlib.image.AxesImage at 0x7fdf4c3855c0>"
      ]
     },
     "execution_count": 86,
     "metadata": {},
     "output_type": "execute_result"
    },
    {
     "data": {
      "image/png": "[encoded data removed]",
      "text/plain": [
       "<Figure size 288x288 with 1 Axes>"
      ]
     },
     "metadata": {},
     "output_type": "display_data"
    }
   ],
   "source": [
    "plt.figure(figsize=(4,4))\n",
    "plt.imshow(nimg - o1.reshape(28,28))"
   ]
  },
  {
   "cell_type": "markdown",
   "metadata": {},
   "source": [
    "---\n",
    "## 8. 이상데이터 테스트"
   ]
  },
  {
   "cell_type": "markdown",
   "metadata": {},
   "source": [
    "EMNIST에서 임의의 데이터를 선정하여 abnomaly score가 정상에 비해 높게 나오는지 확인해 보겠습니다."
   ]
  },
  {
   "cell_type": "code",
   "execution_count": 75,
   "metadata": {},
   "outputs": [
    {
     "data": {
      "text/plain": [
       "<matplotlib.image.AxesImage at 0x7fdf4c981a58>"
      ]
     },
     "execution_count": 75,
     "metadata": {},
     "output_type": "execute_result"
    },
    {
     "data": {
      "image/png": "[encoded data removed]",
      "text/plain": [
       "<Figure size 288x288 with 1 Axes>"
      ]
     },
     "metadata": {},
     "output_type": "display_data"
    }
   ],
   "source": [
    "aimg = images[2].reshape(28,28)/ 127.5 - 1.\n",
    "plt.figure(figsize=(4,4))\n",
    "plt.imshow(aimg)"
   ]
  },
  {
   "cell_type": "code",
   "execution_count": 76,
   "metadata": {},
   "outputs": [
    {
     "name": "stdout",
     "output_type": "stream",
     "text": [
      "CPU times: user 39.9 s, sys: 20.3 s, total: 1min\n",
      "Wall time: 11.1 s\n"
     ]
    }
   ],
   "source": [
    "%%time\n",
    "z = np.random.uniform(0, 1, size=(1, 100))\n",
    "intermidiate_model = feature_extractor(img_shape=(28,28,1))\n",
    "\n",
    "# ground truth\n",
    "x = aimg.reshape(1, 28, 28, 1)\n",
    "d_x = intermidiate_model.predict(x)\n",
    "\n",
    "# ground truth를 예측하는 z 학습\n",
    "loss_a = model.fit(z, [x, d_x], epochs=500, verbose=0)"
   ]
  },
  {
   "cell_type": "markdown",
   "metadata": {},
   "source": [
    "학습을 통해 best latent vector를 추정한 후, 해당 latent vector를 이용하여 생성한 생성 이미지입니다. (500 epoch을 거쳐 원본과 유사한 결과를 생성할 수 있는 z를 찾았고 그 z를 이용하여 생성한 이미지입니다.) 정상 데이터에 비해 원본 이미지에 대한 재현률이 높지 않은 것을 시가적으로 확인할 수 있습니다. "
   ]
  },
  {
   "cell_type": "code",
   "execution_count": 77,
   "metadata": {},
   "outputs": [
    {
     "data": {
      "text/plain": [
       "<matplotlib.image.AxesImage at 0x7fdf4c76eeb8>"
      ]
     },
     "execution_count": 77,
     "metadata": {},
     "output_type": "execute_result"
    },
    {
     "data": {
      "image/png": "[encoded data removed]",
      "text/plain": [
       "<Figure size 288x288 with 1 Axes>"
      ]
     },
     "metadata": {},
     "output_type": "display_data"
    }
   ],
   "source": [
    "oa1, oa2 = model.predict(z)\n",
    "plt.figure(figsize=(4,4))\n",
    "plt.imshow(oa1.reshape(28,28))"
   ]
  },
  {
   "cell_type": "markdown",
   "metadata": {},
   "source": [
    "정상 데이터보다 큰 loss값을 확인할 수 있습니다."
   ]
  },
  {
   "cell_type": "code",
   "execution_count": 78,
   "metadata": {},
   "outputs": [
    {
     "data": {
      "text/plain": [
       "466.9402770996094"
      ]
     },
     "execution_count": 78,
     "metadata": {},
     "output_type": "execute_result"
    }
   ],
   "source": [
    "loss_a.history['loss'][-1]"
   ]
  },
  {
   "cell_type": "markdown",
   "metadata": {},
   "source": [
    "다음은 residual에 대한 시각적 표현입니다. 육안을 통해서도 보다 많은 픽셀이 남은 것을 확인할 수 있다. (residual값이 클 수록 어두운 색상입니다.)"
   ]
  },
  {
   "cell_type": "code",
   "execution_count": 79,
   "metadata": {},
   "outputs": [
    {
     "data": {
      "text/plain": [
       "<matplotlib.image.AxesImage at 0x7fdf4c7487b8>"
      ]
     },
     "execution_count": 79,
     "metadata": {},
     "output_type": "execute_result"
    },
    {
     "data": {
      "image/png": "[encoded data removed]",
      "text/plain": [
       "<Figure size 288x288 with 1 Axes>"
      ]
     },
     "metadata": {},
     "output_type": "display_data"
    }
   ],
   "source": [
    "plt.figure(figsize=(4,4))\n",
    "plt.imshow(aimg - oa1.reshape(28,28))"
   ]
  },
  {
   "cell_type": "markdown",
   "metadata": {},
   "source": [
    "---\n",
    "## 9. 결과 검증\n",
    "\n",
    "각 100건의 정상과 비정상 이미지를 이용하여 Anobal loss를 비교해봅니다. \n",
    "\n",
    "우선 임의의 100개의 MNIST 데이터를 정상 이미지로 이용하겠습니다."
   ]
  },
  {
   "cell_type": "code",
   "execution_count": 80,
   "metadata": {},
   "outputs": [],
   "source": [
    "nimg_multi = X_train[:100].reshape(100,28,28)/ 127.5 - 1."
   ]
  },
  {
   "cell_type": "code",
   "execution_count": 81,
   "metadata": {},
   "outputs": [
    {
     "name": "stdout",
     "output_type": "stream",
     "text": [
      "CPU times: user 9min 54s, sys: 2min 1s, total: 11min 56s\n",
      "Wall time: 1min 48s\n"
     ]
    }
   ],
   "source": [
    "%%time\n",
    "z = np.random.uniform(0, 1, size=(100, 100))\n",
    "intermidiate_model = feature_extractor(img_shape=(28,28,1))\n",
    "\n",
    "# ground truth\n",
    "x = nimg_multi.reshape(100,28,28,1)\n",
    "d_x = intermidiate_model.predict(x)\n",
    "\n",
    "# ground truth를 예측하는 z 학습\n",
    "loss_normal = model.fit(z, [x, d_x], epochs=500, verbose=0)"
   ]
  },
  {
   "cell_type": "markdown",
   "metadata": {},
   "source": [
    "다음은 100개의 EMNIST 이미지를 입력으로 학습을 진행합니다."
   ]
  },
  {
   "cell_type": "code",
   "execution_count": 82,
   "metadata": {},
   "outputs": [],
   "source": [
    "aimg_multi = images[:100].reshape(100,28,28)/ 127.5 - 1."
   ]
  },
  {
   "cell_type": "code",
   "execution_count": 83,
   "metadata": {},
   "outputs": [
    {
     "name": "stdout",
     "output_type": "stream",
     "text": [
      "CPU times: user 9min 52s, sys: 2min 2s, total: 11min 54s\n",
      "Wall time: 1min 47s\n"
     ]
    }
   ],
   "source": [
    "%%time\n",
    "z = np.random.uniform(0, 1, size=(100, 100))\n",
    "intermidiate_model = feature_extractor(img_shape=(28,28,1))\n",
    "\n",
    "# ground truth\n",
    "x = aimg_multi.reshape(100,28,28,1)\n",
    "d_x = intermidiate_model.predict(x)\n",
    "\n",
    "# ground truth를 예측하는 z 학습\n",
    "loss_abnormal = model.fit(z, [x, d_x], epochs=500, verbose=0)"
   ]
  },
  {
   "cell_type": "markdown",
   "metadata": {},
   "source": [
    "두 데이터에 대한 학습 진행과정을 비교해봅니다. 전체 epoch에 걸쳐서 이상 데이터의 경우 정상 데이터보다 학습 loss가 높은 것을 확인할 수 있습니다."
   ]
  },
  {
   "cell_type": "code",
   "execution_count": 84,
   "metadata": {},
   "outputs": [
    {
     "data": {
      "image/png": "[encoded data removed]",
      "text/plain": [
       "<Figure size 432x288 with 1 Axes>"
      ]
     },
     "metadata": {},
     "output_type": "display_data"
    }
   ],
   "source": [
    "plt.plot(loss_normal.history['loss'])\n",
    "plt.plot(loss_abnormal.history['loss'])\n",
    "plt.legend(['normal','abnormal'])\n",
    "plt.show()"
   ]
  },
  {
   "cell_type": "code",
   "execution_count": null,
   "metadata": {},
   "outputs": [],
   "source": []
  }
 ],
 "metadata": {
  "kernelspec": {
   "display_name": "conda_tensorflow_p36",
   "language": "python",
   "name": "conda_tensorflow_p36"
  },
  "language_info": {
   "codemirror_mode": {
    "name": "ipython",
    "version": 3
   },
   "file_extension": ".py",
   "mimetype": "text/x-python",
   "name": "python",
   "nbconvert_exporter": "python",
   "pygments_lexer": "ipython3",
   "version": "3.6.6"
  }
 },
 "nbformat": 4,
 "nbformat_minor": 4
}
